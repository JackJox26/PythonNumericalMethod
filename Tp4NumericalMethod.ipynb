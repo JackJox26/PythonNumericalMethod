{
 "cells": [
  {
   "cell_type": "markdown",
   "id": "cba1be4a",
   "metadata": {},
   "source": [
    "# Méthodes Numériques - TP noté ET4\n",
    "\n",
    "## Population d'éléphants et modèle de Leslie\n",
    "A la fin du TP, on vous demande d'envoyer un jupyter Notebook NOM_Prénom_Leslie.ipynb à votre chargé de TP (Joel.gay@universite-paris-saclay.fr ou anne-catherine.letournel@universite-paris-saclay.fr). Le sujet de l'email devra être [TP Noté ET4 MethNum] NOM prénom"
   ]
  },
  {
   "cell_type": "code",
   "execution_count": 55,
   "id": "a6788ac9",
   "metadata": {},
   "outputs": [],
   "source": [
    "import numpy as np\n",
    "from numpy import linalg as la\n",
    "import matplotlib.pyplot as plt"
   ]
  },
  {
   "cell_type": "markdown",
   "id": "1f071e77",
   "metadata": {},
   "source": [
    "On étudie le nombre d'individus éléphants dans une réserve en Tanzanie.\n",
    "La population totale d'individus est répartie en compartiments totalisant chacun le nombre d'éléphants à la date T dans une tranche d'âge donnée.\n",
    "Il y a 6 compartiments représentant les tranches d'âges par dizaine:  \n",
    "$$[0-10], \\, [10-20], \\, [20-30], \\, [30-40], \\,[40-50] \\text{ et } [50-60],$$ l'espérance de vie d'un éléphant étant de 60 ans (on considèrera donc qu'il n'y en a pas de plus de 60 ans)."
   ]
  },
  {
   "cell_type": "markdown",
   "id": "bfafd79a",
   "metadata": {},
   "source": [
    "<p>\n",
    "Dans chaque compartiment, les caractéristiques de la population ont deux caractéristiques : </p>\n",
    "<ul> \n",
    "    <li>$s_i$, le taux de survie sur 10 ans, représente la proportion d'éléphants qui atteindra la tranche d'âge suivante.</li>\n",
    "    <li>$f_i$, le taux de fécondité des individus de la tranche d'âge sur 10 ans.</li>\n",
    "</ul>"
   ]
  },
  {
   "cell_type": "markdown",
   "id": "845e120b",
   "metadata": {},
   "source": [
    "| 0 à 10 ans | 10 à 20 ans | 20 à 30 ans| 30 à 40 ans| 40 à 50 ans | 50 à 60 ans |\n",
    "|------------|-------------|------------|------------|-------------|------------|\n",
    "| $s_0$ | $s_1$ | $s_2$ | $s_3$ | $s_4$ | $s_5$ | $s_6 = 0$ |\n",
    "| $f_0$ | $f_1$ | $f_2$ | $f_3$ | $f_4$ | $f_5$ |"
   ]
  },
  {
   "cell_type": "markdown",
   "id": "3023def8",
   "metadata": {},
   "source": [
    "<em>Pour visualiser la cellule suivante, vous devez télécharger le fichier modele_Leslie.pdf dans votre dossier, puis valider la cellule</em>"
   ]
  },
  {
   "cell_type": "code",
   "execution_count": 56,
   "id": "7414a9f9",
   "metadata": {},
   "outputs": [
    {
     "data": {
      "text/html": [
       "\n",
       "        <iframe\n",
       "            width=\"800\"\n",
       "            height=\"400\"\n",
       "            src=\"modele_Leslie_1.pdf\"\n",
       "            frameborder=\"0\"\n",
       "            allowfullscreen\n",
       "            \n",
       "        ></iframe>\n",
       "        "
      ],
      "text/plain": [
       "<IPython.lib.display.IFrame at 0x7f860e8bfc40>"
      ]
     },
     "execution_count": 56,
     "metadata": {},
     "output_type": "execute_result"
    }
   ],
   "source": [
    "from IPython.display import IFrame\n",
    "IFrame(\"modele_Leslie_1.pdf\", width=800, height=400)"
   ]
  },
  {
   "cell_type": "markdown",
   "id": "90c57bae",
   "metadata": {},
   "source": [
    "On note $N(t) = \\begin{pmatrix}n_0(t)\\\\n_1(t)\\\\\\vdots \\\\ n_5(t)\\end{pmatrix}$ le vecteur dont les composantes $n_i(t)$ sont le cardinal de chaque compartiment au temps $t$, et on considère la matrice suivante, appelée matrice de Leslie. Noter que $s_5 = 0$ car il n'y a pas de compartiment pour la tranche d'âge supérieure."
   ]
  },
  {
   "cell_type": "markdown",
   "id": "93f144d2",
   "metadata": {},
   "source": [
    "$$L = \\begin{pmatrix}\n",
    "f_0 & f_1 & \\dots&  \\dots & f_5 \\\\\n",
    "s_0 & 0 & \\dots & \\dots &0 \\\\\n",
    "0 & s_1 & \\ddots & &\\vdots \\\\\n",
    "\\vdots & \\ddots & \\ddots & \\ddots & 0 \\\\\n",
    "0 & \\dots & 0 & s_4 & 0\n",
    "\\end{pmatrix}$$"
   ]
  },
  {
   "cell_type": "markdown",
   "id": "631f67ec",
   "metadata": {},
   "source": [
    "On remarque alors que $N(T+1) = L \\cdot N(T)$ où $T$ est une période de 10 ans"
   ]
  },
  {
   "cell_type": "markdown",
   "id": "35e49c29",
   "metadata": {},
   "source": [
    "1) Coder la fonction <tt>Leslie</tt> qui prend les vecteurs <tt>Survie</tt> et <tt>Fecondité</tt> en paramètres et retourne la matrice de Leslie correspondant au modèle."
   ]
  },
  {
   "cell_type": "code",
   "execution_count": 57,
   "id": "3fc3aef1",
   "metadata": {},
   "outputs": [],
   "source": [
    "def Leslie(Fecondité,Survie):\n",
    "    tab=np.zeros((len(Fecondité),len(Fecondité) ))\n",
    "    for i in range((len(Fecondité))):\n",
    "        tab[0][i]=Fecondité[i]\n",
    "    \n",
    "    for i in range ((len(Fecondité))-1):\n",
    "        tab[i+1][i]=Survie[i]\n",
    "                   \n",
    "    return tab\n",
    "                   \n",
    "                    \n",
    "                   \n",
    "    \n",
    "    \n",
    "    "
   ]
  },
  {
   "cell_type": "markdown",
   "id": "3179b206",
   "metadata": {},
   "source": [
    "2) Tester votre fonction sur <tt>Survie = [.33, .33, .33, .33, .33, .33]</tt> et <tt>Fecondite = [0, 2, 2, 2, 2, 0]</tt>"
   ]
  },
  {
   "cell_type": "code",
   "execution_count": 58,
   "id": "6d0f776f",
   "metadata": {},
   "outputs": [
    {
     "name": "stdout",
     "output_type": "stream",
     "text": [
      "6\n"
     ]
    },
    {
     "data": {
      "text/plain": [
       "array([[0.  , 2.  , 2.  , 2.  , 2.  , 0.  ],\n",
       "       [0.33, 0.  , 0.  , 0.  , 0.  , 0.  ],\n",
       "       [0.  , 0.33, 0.  , 0.  , 0.  , 0.  ],\n",
       "       [0.  , 0.  , 0.33, 0.  , 0.  , 0.  ],\n",
       "       [0.  , 0.  , 0.  , 0.33, 0.  , 0.  ],\n",
       "       [0.  , 0.  , 0.  , 0.  , 0.33, 0.  ]])"
      ]
     },
     "execution_count": 58,
     "metadata": {},
     "output_type": "execute_result"
    }
   ],
   "source": [
    "Survie = [.33, .33, .33, .33, .33, .33] \n",
    "Fecondite = [0, 2, 2, 2, 2, 0]\n",
    "A=Leslie(Fecondite,Survie)\n",
    "print(len(A))\n",
    "A"
   ]
  },
  {
   "cell_type": "markdown",
   "id": "aaff032d",
   "metadata": {},
   "source": [
    "On admet que les matrices de Leslie possèdent une valeur propre $\\lambda$, telle que $\\lambda$ est supérieur en module à toutes leurs autres valeurs propres, et que l'espace propre associé est de dimension 1. Dans un tel cas on peut prendre dans la droite propre associée à $\\lambda$ un vecteur dont toutes les coordonnées sont positives. "
   ]
  },
  {
   "cell_type": "markdown",
   "id": "9963cbf7",
   "metadata": {},
   "source": [
    "L'objectif du problème est de définir le comportement asymptotique de l'évolution de la population. Pour cela, dans un premier temps, on va utiliser la méthode de la puissance appliquée à la matrice de Leslie pour en déterminer la plus grande valeur propre ainsi qu'un vecteur propre (à coordonnées positives) correspondant."
   ]
  },
  {
   "cell_type": "markdown",
   "id": "53bc8a22",
   "metadata": {},
   "source": [
    "3) Ecrire une fonction <tt>Puissance</tt> qui prend la matrice de Leslie $L$ en entrée, un vecteur $N_0$ quelconque correspondant à la population initiale d'éléphants, <tt>tol</tt> et <tt>itermax</tt>. Elle retourne sa plus grande valeur propre, le vecteur propre associé (de norme 1 et à coefficients positifs) ainsi que le nombre d'itérations utilisées."
   ]
  },
  {
   "cell_type": "code",
   "execution_count": 59,
   "id": "1a847493",
   "metadata": {},
   "outputs": [],
   "source": [
    "def Puissance(L,N,tol,itermax):\n",
    "    k=0\n",
    "    while(k<itermax):\n",
    "        XK=L.dot(N)/la.norm(L.dot(N))\n",
    "        Lambda=XK.transpose()@L@XK\n",
    "        k+=1\n",
    "        \n",
    "        if (la.norm(L.dot(XK)-Lambda*XK)<tol):\n",
    "            break\n",
    "        N=XK\n",
    "    return [XK],Lambda,itermax\n",
    "    \n",
    "    "
   ]
  },
  {
   "cell_type": "markdown",
   "id": "789b5642",
   "metadata": {},
   "source": [
    "4) Tester votre fonction sur la matrice $L$ précédente et vérifier la relation entre la matrice de Leslie, le vecteur propre et sa valeur propre associée."
   ]
  },
  {
   "cell_type": "code",
   "execution_count": 60,
   "id": "8b8cd8ba",
   "metadata": {},
   "outputs": [
    {
     "name": "stdout",
     "output_type": "stream",
     "text": [
      "(array([ 0.        +0.j        ,  0.98904201+0.j        ,\n",
      "       -0.63429366+0.j        , -0.37505539+0.j        ,\n",
      "        0.01015352+0.31733679j,  0.01015352-0.31733679j]), array([[ 0.        +0.j        ,  0.94269573+0.j        ,\n",
      "        -0.85417361+0.j        ,  0.53645683+0.j        ,\n",
      "         0.0587727 +0.36436183j,  0.0587727 -0.36436183j],\n",
      "       [ 0.        +0.j        ,  0.31453627+0.j        ,\n",
      "         0.44439557+0.j        , -0.4720123 +0.j        ,\n",
      "         0.38046758-0.04894455j,  0.38046758+0.04894455j],\n",
      "       [ 0.        +0.j        ,  0.10494698+0.j        ,\n",
      "        -0.23120291+0.j        ,  0.41530948+0.j        ,\n",
      "        -0.03819933-0.39687223j, -0.03819933+0.39687223j],\n",
      "       [ 0.        +0.j        ,  0.03501621+0.j        ,\n",
      "         0.12028649+0.j        , -0.36541836+0.j        ,\n",
      "        -0.41355689+0.02649148j, -0.41355689-0.02649148j],\n",
      "       [ 0.        +0.j        ,  0.01168338+0.j        ,\n",
      "        -0.0625807 +0.j        ,  0.32152067+0.j        ,\n",
      "         0.01377431+0.43050045j,  0.01377431-0.43050045j],\n",
      "       [ 1.        +0.j        ,  0.00389823+0.j        ,\n",
      "         0.03255847+0.j        , -0.2828964 +0.j        ,\n",
      "         0.44767941+0.j        ,  0.44767941-0.j        ]]))\n"
     ]
    }
   ],
   "source": [
    "L=Leslie(Fecondite,Survie)\n",
    "print(la.eig(L))"
   ]
  },
  {
   "cell_type": "code",
   "execution_count": 61,
   "id": "ce245d67",
   "metadata": {},
   "outputs": [
    {
     "data": {
      "text/plain": [
       "([array([0.94269571, 0.31453632, 0.10494697, 0.03501622, 0.01168337,\n",
       "         0.00389823])],\n",
       " 0.9890420830737973,\n",
       " 1e+100)"
      ]
     },
     "execution_count": 61,
     "metadata": {},
     "output_type": "execute_result"
    }
   ],
   "source": [
    "Puissance(L,[1, 1, 1, 1,1, 1],1e-7,1e100)"
   ]
  },
  {
   "cell_type": "markdown",
   "id": "57412300",
   "metadata": {},
   "source": [
    "## On étudie le taux net de reproduction R0."
   ]
  },
  {
   "cell_type": "markdown",
   "id": "c80e116d",
   "metadata": {},
   "source": [
    "La théorie du modèle définit $R_0 = f_0 + s_0\\cdot f_1 + s_0\\cdot s_1 \\cdot f_2 + s_0\\cdot s_1 \\cdot s_2 \\cdot f_3 + s_0\\cdot s_1 \\cdot s_2\\cdot s_3\\cdot f_4$, avec la propriété suivante : \n",
    "* Si $R_0 > 1$, la population croît,\n",
    "* Si $R_0 < 1$, la population décroît,\n",
    "* Si $R_0 = 1$, la population est stable dans le temps."
   ]
  },
  {
   "cell_type": "markdown",
   "id": "4fb43648",
   "metadata": {},
   "source": [
    "5) Donner l'expression mathématique de $R_0$ dans l'hypothèse simpliste où <tt>Survie = [s, s, s, s, s, 0]</tt> et <tt>Fecondite = [0, 2, 2, 2, 2, 0]</tt>, où $s$ peut être vu comme un paramètre de $R_0$."
   ]
  },
  {
   "cell_type": "markdown",
   "id": "050c207b",
   "metadata": {},
   "source": [
    "r0 =2*( s  + s^2 + s^3 + s^4)"
   ]
  },
  {
   "cell_type": "code",
   "execution_count": 62,
   "id": "1d9875cb",
   "metadata": {},
   "outputs": [
    {
     "data": {
      "text/plain": [
       "2"
      ]
     },
     "execution_count": 62,
     "metadata": {},
     "output_type": "execute_result"
    }
   ],
   "source": [
    "s=2\n",
    "r0 =2*( s  + s^2 + s^3 + s^4)\n",
    "r0"
   ]
  },
  {
   "cell_type": "markdown",
   "id": "71f549b7",
   "metadata": {},
   "source": [
    "On étudie le cas où $R_0 = 1$."
   ]
  },
  {
   "cell_type": "markdown",
   "id": "1361edb9",
   "metadata": {},
   "source": [
    "6) Ecrire (mathématiquement) le polynôme $P(s) = R_0(s) -1 $ en $s$ de degré 4."
   ]
  },
  {
   "cell_type": "markdown",
   "id": "bc5be6f2",
   "metadata": {},
   "source": [
    "P(s)=2*( s + s^2 + s^3 + s^4)-1"
   ]
  },
  {
   "cell_type": "markdown",
   "id": "4c08e7ce",
   "metadata": {},
   "source": [
    "7) Afficher la courbe du polynôme $P$ entre 0 et 1. "
   ]
  },
  {
   "cell_type": "code",
   "execution_count": 77,
   "id": "f81b88ab",
   "metadata": {},
   "outputs": [],
   "source": [
    "s=np.arange(-2,1,0.001)\n",
    "\n",
    "def P(s):\n",
    "    return 2*( s + s**2 + s**3 + s**4)-1"
   ]
  },
  {
   "cell_type": "code",
   "execution_count": 82,
   "id": "02d9e11a",
   "metadata": {},
   "outputs": [
    {
     "data": {
      "text/plain": [
       "array([-2.   , -1.999, -1.998, ...,  0.997,  0.998,  0.999])"
      ]
     },
     "execution_count": 82,
     "metadata": {},
     "output_type": "execute_result"
    }
   ],
   "source": [
    "s"
   ]
  },
  {
   "cell_type": "code",
   "execution_count": 78,
   "id": "010818fe",
   "metadata": {},
   "outputs": [
    {
     "data": {
      "text/plain": [
       "[<matplotlib.lines.Line2D at 0x7f860e6a8f70>]"
      ]
     },
     "execution_count": 78,
     "metadata": {},
     "output_type": "execute_result"
    },
    {
     "data": {
      "image/png": "[encoded data removed]",
      "text/plain": [
       "<Figure size 432x288 with 1 Axes>"
      ]
     },
     "metadata": {
      "needs_background": "light"
     },
     "output_type": "display_data"
    }
   ],
   "source": [
    "plt.plot(s,P(s))\n",
    "plt.plot(s,s*0)"
   ]
  },
  {
   "cell_type": "markdown",
   "id": "920496da",
   "metadata": {},
   "source": [
    "L'objectif est donc de trouver le zéro de $P$ qui correspond à la valeur critique entre survie et extinction. <br>\n",
    "On va utiliser la méthode de Newton pour trouver une approximation de la valeur <tt>sseuil</tt> de survie correspondant à ce taux $R_0 = 1$ étant donné que $P(\\texttt{sseuil}) = 0$.<br>"
   ]
  },
  {
   "cell_type": "markdown",
   "id": "f6d20d7c",
   "metadata": {},
   "source": [
    "<font size=\"3\">**Algorithme : Méthode de Newton**</font><br>\n",
    "**Nécessite** : $f$ une fonction réelle, $df$ sa dérivée, $x_0$ un réel initial, $tol$ une tolérance, $itermax$ un nombre d'itérations <br>\n",
    "$\\text{} \\qquad$ **Répéter** <br>\n",
    "$\\text{} \\qquad \\qquad x_{k+1} \\leftarrow x_k-\\frac{f(x_k)}{df(x_k)}$ <br>\n",
    "$\\text{} \\qquad \\qquad k \\leftarrow k + 1$ <br>\n",
    "$\\text{} \\qquad $ **jusqu'au critère d'arrêt** <br>\n",
    "**Retourne** $x_{k+1}$ et $k$"
   ]
  },
  {
   "cell_type": "markdown",
   "id": "fbdb7a99",
   "metadata": {},
   "source": [
    "8) Ecrire la fonction <tt>poly</tt> qui étant donné les coefficients $a, b, c, d, e$ d'un polynôme $P$ de degré 4 et $x$ une valeur numérique, renvoie $P(x)$. "
   ]
  },
  {
   "cell_type": "code",
   "execution_count": 79,
   "id": "c02e8855",
   "metadata": {},
   "outputs": [],
   "source": [
    "def poly(a,b,c,d,e,x):\n",
    "    return a*x**4+b*x**3+c*x**2+d*x+e\n"
   ]
  },
  {
   "cell_type": "markdown",
   "id": "2a51a9e5",
   "metadata": {},
   "source": [
    "9) Ecrire la fonction <tt>dpoly</tt> qui étant donné les coefficients $a, b, c, d, e$ d'un polynôme $P$ de degré 4 et $x$ une valeur numérique, renvoie $dP(x)$ où $dP$ est la dérivée de $P$. "
   ]
  },
  {
   "cell_type": "code",
   "execution_count": 66,
   "id": "7151329f",
   "metadata": {},
   "outputs": [],
   "source": [
    "def dpoly (a,b,c,d,x):\n",
    "    return 4*a*x**3+3*b*x**2+c*2*x+d\n"
   ]
  },
  {
   "cell_type": "markdown",
   "id": "ccca7144",
   "metadata": {},
   "source": [
    "10) Ecrire la fonction <tt>Newton</tt> mettant en place la méthode de Newton pour des fonctions polynomiales de degré 4. "
   ]
  },
  {
   "cell_type": "code",
   "execution_count": 67,
   "id": "99cdda1a",
   "metadata": {},
   "outputs": [],
   "source": [
    "def Newton(a,b,c,d,e,x0,itermax,tol):\n",
    "    k=0\n",
    "    while(k<itermax):\n",
    "        xk=x0-(poly(a,b,c,d,e,x0)/dpoly(a,b,c,d,x0))\n",
    "        \n",
    "        k+=1\n",
    "        if (la.norm(xk-x0)<tol):\n",
    "            break\n",
    "        x0=xk\n",
    "    return xk,k\n",
    "    \n",
    "    \n",
    "    \n",
    "    "
   ]
  },
  {
   "cell_type": "markdown",
   "id": "689212c3",
   "metadata": {},
   "source": [
    "11) Appliquer <tt>Newton</tt> avec $x0 = 0$ puis $x0 = -1$ dans le cas de notre polynôme $P$"
   ]
  },
  {
   "cell_type": "code",
   "execution_count": 68,
   "id": "221789b0",
   "metadata": {},
   "outputs": [
    {
     "name": "stdout",
     "output_type": "stream",
     "text": [
      "(0.33619669316309375, 6) (-1.1778233218143153, 6)\n"
     ]
    }
   ],
   "source": [
    "A=Newton(2,2,2,2,-1,0,1e7,1e-10)\n",
    "B=Newton(2,2,2,2,-1,-1,1e7,1e-10)\n",
    "print(A,B)\n"
   ]
  },
  {
   "cell_type": "markdown",
   "id": "24b79d9b",
   "metadata": {},
   "source": [
    "12) Vérifier que les solutions trouvées annulent bien le polynôme $P$."
   ]
  },
  {
   "cell_type": "code",
   "execution_count": 80,
   "id": "ab17dbd5",
   "metadata": {},
   "outputs": [
    {
     "name": "stdout",
     "output_type": "stream",
     "text": [
      "-1.1102230246251565e-16\n",
      "-8.881784197001252e-16\n"
     ]
    }
   ],
   "source": [
    "\n",
    "print(poly(2,2,2,2,-1,A[0]))\n",
    "print(poly(2,2,2,2,-1,B[0]))\n"
   ]
  },
  {
   "cell_type": "markdown",
   "id": "e2871c88",
   "metadata": {},
   "source": [
    "13) Laquelle de ces deux valeurs correspond à <tt>sseuil</tt> ?"
   ]
  },
  {
   "cell_type": "markdown",
   "id": "27ef25a0",
   "metadata": {},
   "source": [
    "celle qui est posotive puisque on peux pas commencer par une population de depart negative"
   ]
  },
  {
   "cell_type": "markdown",
   "id": "38db5604",
   "metadata": {},
   "source": [
    "## Simulation de l'évolution de la population - modèle simplifié"
   ]
  },
  {
   "cell_type": "markdown",
   "id": "f844b036",
   "metadata": {},
   "source": [
    "On va afficher l'évolution de la population d'éléphants sur plusieurs décennies pour deux valeurs du taux de survie simplifié: une valeur inférieure au taux de seuil donné par Newton et une valeur supérieure. On pourra utiliser la fonction <tt>np.sum</tt> qui retourne la somme des coefficients d'un tableau pour connaitre la population totale dans la réserve à partir du vecteur N. On calculera la population à chaque décennie par récurrence à partir de la population $N_0$."
   ]
  },
  {
   "cell_type": "markdown",
   "id": "4434c4e0",
   "metadata": {},
   "source": [
    "14) Ecrire une fonction <tt>Evolution</tt> qui prend en entrée la matrice de Leslie $L$, le nombre de décennies considérées et le vecteur $N_0$ correspondant à la répartition de la population initiale à la décennie $T=0$. La fonction <tt>Evolution</tt> affichera le graphe du nombre d'individus au cours du temps sur le nombre de décennies considéré."
   ]
  },
  {
   "cell_type": "code",
   "execution_count": 70,
   "id": "2c77bc54",
   "metadata": {},
   "outputs": [],
   "source": [
    "Survie = [.33, .33, .33, .33, .33, .33] \n",
    "Fecondite = [0, 2, 2, 2, 2, 0]\n",
    "L=Leslie(Fecondite,Survie)\n",
    "def Evolution(L,N,T):\n",
    "    tab=[]\n",
    "    temps=np.arange(T)\n",
    "    for i in range (T):\n",
    "        k=L@N\n",
    "        tab.append(np.sum(k))\n",
    "        N=k\n",
    "    plt.plot(temps,tab)\n",
    "    \n",
    "\n",
    "\n"
   ]
  },
  {
   "cell_type": "code",
   "execution_count": 81,
   "id": "67be1dba",
   "metadata": {},
   "outputs": [
    {
     "name": "stdout",
     "output_type": "stream",
     "text": [
      "Help on function sum in module numpy:\n",
      "\n",
      "sum(a, axis=None, dtype=None, out=None, keepdims=<no value>, initial=<no value>, where=<no value>)\n",
      "    Sum of array elements over a given axis.\n",
      "    \n",
      "    Parameters\n",
      "    ----------\n",
      "    a : array_like\n",
      "        Elements to sum.\n",
      "    axis : None or int or tuple of ints, optional\n",
      "        Axis or axes along which a sum is performed.  The default,\n",
      "        axis=None, will sum all of the elements of the input array.  If\n",
      "        axis is negative it counts from the last to the first axis.\n",
      "    \n",
      "        .. versionadded:: 1.7.0\n",
      "    \n",
      "        If axis is a tuple of ints, a sum is performed on all of the axes\n",
      "        specified in the tuple instead of a single axis or all the axes as\n",
      "        before.\n",
      "    dtype : dtype, optional\n",
      "        The type of the returned array and of the accumulator in which the\n",
      "        elements are summed.  The dtype of `a` is used by default unless `a`\n",
      "        has an integer dtype of less precision than the default platform\n",
      "        integer.  In that case, if `a` is signed then the platform integer\n",
      "        is used while if `a` is unsigned then an unsigned integer of the\n",
      "        same precision as the platform integer is used.\n",
      "    out : ndarray, optional\n",
      "        Alternative output array in which to place the result. It must have\n",
      "        the same shape as the expected output, but the type of the output\n",
      "        values will be cast if necessary.\n",
      "    keepdims : bool, optional\n",
      "        If this is set to True, the axes which are reduced are left\n",
      "        in the result as dimensions with size one. With this option,\n",
      "        the result will broadcast correctly against the input array.\n",
      "    \n",
      "        If the default value is passed, then `keepdims` will not be\n",
      "        passed through to the `sum` method of sub-classes of\n",
      "        `ndarray`, however any non-default value will be.  If the\n",
      "        sub-class' method does not implement `keepdims` any\n",
      "        exceptions will be raised.\n",
      "    initial : scalar, optional\n",
      "        Starting value for the sum. See `~numpy.ufunc.reduce` for details.\n",
      "    \n",
      "        .. versionadded:: 1.15.0\n",
      "    \n",
      "    where : array_like of bool, optional\n",
      "        Elements to include in the sum. See `~numpy.ufunc.reduce` for details.\n",
      "    \n",
      "        .. versionadded:: 1.17.0\n",
      "    \n",
      "    Returns\n",
      "    -------\n",
      "    sum_along_axis : ndarray\n",
      "        An array with the same shape as `a`, with the specified\n",
      "        axis removed.   If `a` is a 0-d array, or if `axis` is None, a scalar\n",
      "        is returned.  If an output array is specified, a reference to\n",
      "        `out` is returned.\n",
      "    \n",
      "    See Also\n",
      "    --------\n",
      "    ndarray.sum : Equivalent method.\n",
      "    \n",
      "    add.reduce : Equivalent functionality of `add`.\n",
      "    \n",
      "    cumsum : Cumulative sum of array elements.\n",
      "    \n",
      "    trapz : Integration of array values using the composite trapezoidal rule.\n",
      "    \n",
      "    mean, average\n",
      "    \n",
      "    Notes\n",
      "    -----\n",
      "    Arithmetic is modular when using integer types, and no error is\n",
      "    raised on overflow.\n",
      "    \n",
      "    The sum of an empty array is the neutral element 0:\n",
      "    \n",
      "    >>> np.sum([])\n",
      "    0.0\n",
      "    \n",
      "    For floating point numbers the numerical precision of sum (and\n",
      "    ``np.add.reduce``) is in general limited by directly adding each number\n",
      "    individually to the result causing rounding errors in every step.\n",
      "    However, often numpy will use a  numerically better approach (partial\n",
      "    pairwise summation) leading to improved precision in many use-cases.\n",
      "    This improved precision is always provided when no ``axis`` is given.\n",
      "    When ``axis`` is given, it will depend on which axis is summed.\n",
      "    Technically, to provide the best speed possible, the improved precision\n",
      "    is only used when the summation is along the fast axis in memory.\n",
      "    Note that the exact precision may vary depending on other parameters.\n",
      "    In contrast to NumPy, Python's ``math.fsum`` function uses a slower but\n",
      "    more precise approach to summation.\n",
      "    Especially when summing a large number of lower precision floating point\n",
      "    numbers, such as ``float32``, numerical errors can become significant.\n",
      "    In such cases it can be advisable to use `dtype=\"float64\"` to use a higher\n",
      "    precision for the output.\n",
      "    \n",
      "    Examples\n",
      "    --------\n",
      "    >>> np.sum([0.5, 1.5])\n",
      "    2.0\n",
      "    >>> np.sum([0.5, 0.7, 0.2, 1.5], dtype=np.int32)\n",
      "    1\n",
      "    >>> np.sum([[0, 1], [0, 5]])\n",
      "    6\n",
      "    >>> np.sum([[0, 1], [0, 5]], axis=0)\n",
      "    array([0, 6])\n",
      "    >>> np.sum([[0, 1], [0, 5]], axis=1)\n",
      "    array([1, 5])\n",
      "    >>> np.sum([[0, 1], [np.nan, 5]], where=[False, True], axis=1)\n",
      "    array([1., 5.])\n",
      "    \n",
      "    If the accumulator is too small, overflow occurs:\n",
      "    \n",
      "    >>> np.ones(128, dtype=np.int8).sum(dtype=np.int8)\n",
      "    -128\n",
      "    \n",
      "    You can also start the sum with a value other than zero:\n",
      "    \n",
      "    >>> np.sum([10], initial=5)\n",
      "    15\n",
      "\n"
     ]
    }
   ],
   "source": [
    "help(np.sum)"
   ]
  },
  {
   "cell_type": "markdown",
   "id": "930064dc",
   "metadata": {},
   "source": [
    "Un recensement par les gardiens du parc donne la population initiale suivante: N0 = [500, 100, 60, 20, 6, 3] . On étudiera l'évolution sur 100 ans, puis sur 500 ans (le nombre de décennies est donc de 10 puis de 50)."
   ]
  },
  {
   "cell_type": "markdown",
   "id": "f9641f9d",
   "metadata": {},
   "source": [
    "15) Appeler la fonction <tt>Evolution</tt> pour les deux matrices de Leslie correspondant aux valeurs $s=0.33$ et $s=0.37$."
   ]
  },
  {
   "cell_type": "code",
   "execution_count": 71,
   "id": "90f5364d",
   "metadata": {},
   "outputs": [
    {
     "data": {
      "image/png": "[encoded data removed]",
      "text/plain": [
       "<Figure size 432x288 with 1 Axes>"
      ]
     },
     "metadata": {
      "needs_background": "light"
     },
     "output_type": "display_data"
    }
   ],
   "source": [
    "s=0.33\n",
    "Survie = [s, s, s, s, s, s] \n",
    "\n",
    "Fecondite = [0, 2, 2, 2, 2, 0]\n",
    "L=Leslie(Fecondite,Survie)\n",
    "N0 = [500, 100, 60, 20, 6, 3]\n",
    "Evolution(L,N0 ,100)\n"
   ]
  },
  {
   "cell_type": "code",
   "execution_count": 72,
   "id": "59fc1112",
   "metadata": {},
   "outputs": [
    {
     "data": {
      "image/png": "[encoded data removed]",
      "text/plain": [
       "<Figure size 432x288 with 1 Axes>"
      ]
     },
     "metadata": {
      "needs_background": "light"
     },
     "output_type": "display_data"
    }
   ],
   "source": [
    "s=0.37\n",
    "Survie = [s, s, s, s, s, s] \n",
    "\n",
    "Fecondite = [0, 2, 2, 2, 2, 0]\n",
    "L=Leslie(Fecondite,Survie)\n",
    "N0 = [500, 100, 60, 20, 6, 3]\n",
    "Evolution(L,N0 ,100)"
   ]
  },
  {
   "cell_type": "code",
   "execution_count": 73,
   "id": "4e0e5cff",
   "metadata": {},
   "outputs": [
    {
     "data": {
      "image/png": "[encoded data removed]",
      "text/plain": [
       "<Figure size 432x288 with 1 Axes>"
      ]
     },
     "metadata": {
      "needs_background": "light"
     },
     "output_type": "display_data"
    }
   ],
   "source": [
    "s=0.33619669316309375\n",
    "Survie = [s, s, s, s, s, s] \n",
    "\n",
    "Fecondite = [0, 2, 2, 2, 2, 0]\n",
    "L=Leslie(Fecondite,Survie)\n",
    "N0 = [500, 100, 60, 20, 6, 3]\n",
    "Evolution(L,N0 ,100)"
   ]
  },
  {
   "cell_type": "code",
   "execution_count": null,
   "id": "d2988e66",
   "metadata": {},
   "outputs": [],
   "source": []
  },
  {
   "cell_type": "markdown",
   "id": "f034f847",
   "metadata": {},
   "source": [
    "16) Interprétez les courbes"
   ]
  },
  {
   "cell_type": "markdown",
   "id": "3c90d78a",
   "metadata": {},
   "source": [
    "avec une valeur inferieur a notrre seul de stabilite on a une population qui tend vers 0 \n",
    "si s > seil de stabilite alors elle temps vers l'infinie \n",
    "si s= au seuil de stabilite alors la population reste fixe\n"
   ]
  }
 ],
 "metadata": {
  "kernelspec": {
   "display_name": "Python 3 (ipykernel)",
   "language": "python",
   "name": "python3"
  },
  "language_info": {
   "codemirror_mode": {
    "name": "ipython",
    "version": 3
   },
   "file_extension": ".py",
   "mimetype": "text/x-python",
   "name": "python",
   "nbconvert_exporter": "python",
   "pygments_lexer": "ipython3",
   "version": "3.8.10"
  },
  "toc": {
   "base_numbering": 1,
   "nav_menu": {},
   "number_sections": true,
   "sideBar": true,
   "skip_h1_title": false,
   "title_cell": "Table of Contents",
   "title_sidebar": "Contents",
   "toc_cell": false,
   "toc_position": {},
   "toc_section_display": true,
   "toc_window_display": false
  },
  "varInspector": {
   "cols": {
    "lenName": 16,
    "lenType": 16,
    "lenVar": 40
   },
   "kernels_config": {
    "python": {
     "delete_cmd_postfix": "",
     "delete_cmd_prefix": "del ",
     "library": "var_list.py",
     "varRefreshCmd": "print(var_dic_list())"
    },
    "r": {
     "delete_cmd_postfix": ") ",
     "delete_cmd_prefix": "rm(",
     "library": "var_list.r",
     "varRefreshCmd": "cat(var_dic_list()) "
    }
   },
   "types_to_exclude": [
    "module",
    "function",
    "builtin_function_or_method",
    "instance",
    "_Feature"
   ],
   "window_display": false
  }
 },
 "nbformat": 4,
 "nbformat_minor": 5
}
