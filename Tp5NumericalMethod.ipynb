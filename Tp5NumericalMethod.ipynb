{
 "cells": [
  {
   "cell_type": "markdown",
   "id": "de7f8d9b",
   "metadata": {},
   "source": [
    "# Méthodes Numériques - TP noté ET4"
   ]
  },
  {
   "cell_type": "markdown",
   "id": "cba1be4a",
   "metadata": {},
   "source": [
    "## Consignes\n",
    "A la fin du TP, on vous demande d'envoyer un jupyter Notebook NOM_Prénom_Exp.ipynb à votre chargé de TP (Joel.gay@universite-paris-saclay.fr ou anne-catherine.letournel@universite-paris-saclay.fr). Le sujet de l'email devra être [TP Noté ET4 MethNum] NOM prénom"
   ]
  },
  {
   "cell_type": "code",
   "execution_count": 24,
   "id": "a6788ac9",
   "metadata": {},
   "outputs": [],
   "source": [
    "import numpy as np\n",
    "from numpy import linalg as la\n",
    "from scipy import linalg as sla\n",
    "import matplotlib.pyplot as plt"
   ]
  },
  {
   "cell_type": "code",
   "execution_count": null,
   "id": "1e513db6",
   "metadata": {},
   "outputs": [],
   "source": []
  },
  {
   "cell_type": "markdown",
   "id": "04915333",
   "metadata": {},
   "source": [
    "## Introduction"
   ]
  },
  {
   "cell_type": "markdown",
   "id": "a24f0ef0",
   "metadata": {},
   "source": [
    "Soit donnés le système d’équations différentielles du premier ordre :"
   ]
  },
  {
   "cell_type": "markdown",
   "id": "0562d5c7",
   "metadata": {},
   "source": [
    "$$\n",
    "\\left\\{\\begin{array}{rcl}\n",
    "\\frac{d}{dt}x_1(t) & = & a_{11}x_1(t) + a_{12}x_2(t) + a_{13}x_3(t), \\\\\n",
    "\\frac{d}{dt}x_2(t) & = & a_{21}x_1(t) + a_{22}x_2(t) + a_{23}x_3(t), \\\\\n",
    "\\frac{d}{dt}x_3(t) & = & a_{31}x_1(t) + a_{32}x_2(t) + a_{33}x_3(t), \\\\\n",
    "\\end{array}\\right.\n",
    "$$"
   ]
  },
  {
   "cell_type": "markdown",
   "id": "1f071e77",
   "metadata": {},
   "source": [
    "et sa condition initiale $𝑥_1(0)$, $𝑥_2(0)$ et $𝑥_3(0)$, où les $a_{ij}$ sont des coefficients réels. La solution d’un tel problème nous donne des informations sur la dépendance en temps de $x_1$, $x_2$ et $x_3$. Le problème peut être écrit avec une notation matricielle :"
   ]
  },
  {
   "cell_type": "markdown",
   "id": "0c6df452",
   "metadata": {},
   "source": [
    "$$\n",
    "\\left\\{\\begin{array}{rcl}\n",
    "\\frac{d}{dt}\\vec{x}(t) & = & A \\vec{x}(t)\\\\\n",
    "\\vec{x}(0) & = & \\begin{pmatrix}x_1(0)\\\\x_2(0)\\\\x_3(0)\\end{pmatrix}\\\\\n",
    "\\end{array}\\right. \\qquad \\text{ où } \\vec{x}(t) = \\begin{pmatrix}x_1(t)\\\\x_2(t)\\\\x_3(t)\\end{pmatrix} \\quad\\text{  et  }\\quad A = \\begin{pmatrix}a_{11}&a_{12}&a_{13}\\\\a_{21}&a_{22}&a_{23}\\\\a_{31}&a_{32}&a_{33}\\end{pmatrix}\n",
    "$$"
   ]
  },
  {
   "cell_type": "markdown",
   "id": "bfafd79a",
   "metadata": {},
   "source": [
    "La solution formelle du problème est : \n",
    "$$\\vec{x}(t) = e^{At}\\vec{x}(0)$$"
   ]
  },
  {
   "cell_type": "markdown",
   "id": "0ebbf3c4",
   "metadata": {},
   "source": [
    "où $e^{At}$ est une matrice appelée <b>exponentielle de la matrice $At$</b>, et définie avec la série de Taylor :\n",
    "$$e^{At} = \\sum_{k=0}^{\\infty} \\frac{t^k}{k!}A^k = I + tA + \\frac{t^2}{2}A^2 + \\frac{t^3}{6}A^3 + \\dots+ \\frac{t^k}{k!}A^k + \\dots $$\n",
    "<i>Remarque : Ici on utilise la notation standard $A^k$ pour indiquer la multiplication matricielle de $A$, $k$ fois ; par exemple : $A^2 = A\\cdot A$ et $A^3 = A \\cdot A \\cdot A$.</i>"
   ]
  },
  {
   "cell_type": "markdown",
   "id": "9fe2e20c",
   "metadata": {},
   "source": [
    "Une évaluation efficace de la matrice $e^{At}$ consiste à résoudre le problème\n",
    "sans utiliser des algorithmes pour l’intégration numérique des équations\n",
    "différentielles: pour obtenir le valeurs de $x_1(t)$, $x_2(t)$ et $x_3(t)$ au temps $t$, il faut\n",
    "simplement appliquer la matrice $e^{At}$ au vecteur $\\vec{x}(0)$ qui représente la con-\n",
    "dition initiale. Le but de ce TP est d’apprendre à évaluer l’exponentielle d’une matrice à l'aide de python et de la série de Taylor."
   ]
  },
  {
   "cell_type": "markdown",
   "id": "3d503060",
   "metadata": {},
   "source": [
    "<b> Attention: l’exponentielle de la matrice $At$ n’est pas la matrice composée des exponentielles des éléments de $At$ : </b>\n",
    "$$ \n",
    "e^{At} \\ne \\begin{pmatrix}e^{a_{11}t}&e^{a_{12}t}&e^{a_{13}t}\\\\e^{a_{21}t}&e^{a_{22}t}&e^{a_{23}t}\\\\e^{a_{31}t}&e^{a_{32}t}&e^{a_{33}t}\\end{pmatrix}\n",
    "$$"
   ]
  },
  {
   "cell_type": "markdown",
   "id": "4e49c529",
   "metadata": {},
   "source": [
    "## Série de Taylor"
   ]
  },
  {
   "cell_type": "markdown",
   "id": "66e21277",
   "metadata": {},
   "source": [
    "1) Écrire une fonction somme partielle de rang <tt>nmax</tt>: <tt> SomPart(A,t,nmax)</tt> dont les paramètres sont une matrice <tt>A</tt>, un temps <tt>t</tt> et un nombre entier positif <tt>nmax</tt>. Cette fonction retourne la matrice ExpAt, qui est l’exponentielle de la matrice $A$ multipliée par $t$ en utilisant la définition de la série de Taylor en calculant les $nmax$ premiers termes de la série, ainsi que le dernier terme de la série $\\frac{t^{nmax}}{nmax!}A^{nmax}$.<br>\n",
    "On pourra utiliser les fonctions python <tt>np.math.factorial()</tt> et <tt>la.matrix_power()</tt> (mais ce n'est pas indispensable). Notez bien que la puissance $k$ d'une matrice $A$ n'est pas <tt>A**k</tt>. "
   ]
  },
  {
   "cell_type": "code",
   "execution_count": 134,
   "id": "3fc3aef1",
   "metadata": {},
   "outputs": [],
   "source": [
    "def Som_part(A,t,nmax):\n",
    "    res = np.zeros((len(A),len(A)))\n",
    "    for i in range (len(A)):\n",
    "        res[i][i] = 1\n",
    "    for k in range(1,nmax):\n",
    "        res = (t**k) / (np.math.factorial(k))* (la.matrix_power(A,k)) + res\n",
    "        \n",
    "    return res\n",
    "    "
   ]
  },
  {
   "cell_type": "markdown",
   "id": "3179b206",
   "metadata": {},
   "source": [
    "2) Tester votre fonction sur $A = \\begin{pmatrix} -6 & -2 & 2 \\\\ 0 & -2 & -4 \\\\ 3 & 1 & -1 \\end{pmatrix}$ pour les temps $t = 0.1$ et $t = 3$ et en comparant les résultats obtenus avec la fonction Python <tt>sla.expm()</tt>.<br>\n",
    "**NB :** prendre $nmax$ suffisamment grand dans chaque cas pour constater que le dernier terme de la série, qui est une matrice, tend vers la matrice nulle. Si cela semble diverger, aller plus loin. "
   ]
  },
  {
   "cell_type": "code",
   "execution_count": 135,
   "id": "28b14b3d",
   "metadata": {},
   "outputs": [
    {
     "name": "stdout",
     "output_type": "stream",
     "text": [
      "[[ 0.571 -0.128  0.173]\n",
      " [-0.045  0.805 -0.346]\n",
      " [ 0.214  0.064  0.914]]\n",
      "[[ 1.199e+06  5.994e+05  6.666e-01]\n",
      " [-5.994e+05 -7.971e+05 -1.333e+00]\n",
      " [-5.994e+05 -7.971e+05  6.667e-01]]\n"
     ]
    },
    {
     "data": {
      "text/plain": [
       "array([[ 0.571, -0.128,  0.173],\n",
       "       [-0.045,  0.805, -0.346],\n",
       "       [ 0.214,  0.064,  0.914]])"
      ]
     },
     "execution_count": 135,
     "metadata": {},
     "output_type": "execute_result"
    }
   ],
   "source": [
    "A = np.array([[-6,-2,2],[0,-2,-4],[3,1,-1]])\n",
    "B = Som_part(A,0.1,100)\n",
    "print(B)\n",
    "C = Som_part(A,3,500)\n",
    "print(C)\n",
    "sla.expm(0.1*A)\n"
   ]
  },
  {
   "cell_type": "markdown",
   "id": "1de5cac8",
   "metadata": {},
   "source": [
    "Pour des questions de complexité, on souhaite pouvoir arrêter le calcul de la somme partielle quand la matrice dernier terme est suffisamment petite. <br>\n",
    "Soit $r$ la plus grande valeur propre de la matrice $At$ en module. Cette valeur s'appelle le rayon spectral de $At$. On admettra que l'écart entre la valeur exacte $e^{At}$ et la somme partielle de rang $n$ est proportionnel à l'expression $e^r \\cdot \\frac{r^{n+1}}{(n+1)!}$ et qu'une condition d'arrêt acceptable est de majorer cette quantité par une tolérance <tt>tol</tt>."
   ]
  },
  {
   "cell_type": "markdown",
   "id": "6ad3ccaa",
   "metadata": {},
   "source": [
    "3) Quel algorithme du cours permettrait de récupérer $r$ ? "
   ]
  },
  {
   "cell_type": "markdown",
   "id": "c294dcce",
   "metadata": {},
   "source": [
    "C'est l'algorithme de la méthode de la puissance"
   ]
  },
  {
   "cell_type": "markdown",
   "id": "dc0e50b1",
   "metadata": {},
   "source": [
    "Programmez la fonction python permettant de calculer r avec cet algorithme du cours."
   ]
  },
  {
   "cell_type": "code",
   "execution_count": 137,
   "id": "43609e9e",
   "metadata": {},
   "outputs": [],
   "source": [
    "def Python(L,N,tol,itermax):\n",
    "    k=0\n",
    "    while(k<itermax):\n",
    "        XK=L.dot(N)/la.norm(L.dot(N))\n",
    "        Lambda=XK.transpose()@L@XK\n",
    "        k+=1\n",
    "        \n",
    "        if (la.norm(L.dot(XK)-Lambda*XK)<tol):\n",
    "            break\n",
    "        N=XK\n",
    "    return Lambda\n"
   ]
  },
  {
   "cell_type": "markdown",
   "id": "2e812fb8",
   "metadata": {},
   "source": [
    "Vérifier la valeur de $r$ trouvée ci-dessus en utilisant la fonction python appropriée qui retourne toutes les valeurs propres d'une matrice et prenant celle de module maximal. <br>"
   ]
  },
  {
   "cell_type": "code",
   "execution_count": 149,
   "id": "a95fa970",
   "metadata": {},
   "outputs": [
    {
     "name": "stdout",
     "output_type": "stream",
     "text": [
      "[-6.000e-01 -1.162e-16 -3.000e-01]\n",
      "-0.6000102998397701\n"
     ]
    }
   ],
   "source": [
    "A = np.array([[-6,-2,2],[0,-2,-4],[3,1,-1]])\n",
    "t= 0.1\n",
    "tol = 0.00001\n",
    "itermax = 1000\n",
    "r = Python(A*t,np.array([1,2,3]),tol,itermax)\n",
    "r1 = la.eigvals(A*t)\n",
    "print(r1)\n",
    "print(r)\n"
   ]
  },
  {
   "cell_type": "markdown",
   "id": "a9415c14",
   "metadata": {},
   "source": [
    "On cherche donc une valeur $n_0$ à partir de laquelle la quantité décrite précédemment est majorée par une tolérance <tt>tol</tt>. "
   ]
  },
  {
   "cell_type": "markdown",
   "id": "282e0c9a",
   "metadata": {},
   "source": [
    "4) Programmer une fonction python <tt>Iter(A,t,tol)</tt> qui retourne une valeur acceptable de $n_0$ pour le calcul de la somme partielle et la tolérance <tt>tol</tt>."
   ]
  },
  {
   "cell_type": "code",
   "execution_count": 155,
   "id": "69a60eab",
   "metadata": {},
   "outputs": [
    {
     "data": {
      "text/plain": [
       "7"
      ]
     },
     "execution_count": 155,
     "metadata": {},
     "output_type": "execute_result"
    }
   ],
   "source": [
    "def Iter(A,t,tol):\n",
    "    L = A*t\n",
    "    N = np.zeros(len(A))\n",
    "    for i in range (len(A)):\n",
    "        N[i] = i\n",
    "    k=0\n",
    "    while(1):\n",
    "        XK=L.dot(N)/la.norm(L.dot(N))\n",
    "        Lambda=XK.transpose()@L@XK\n",
    "        k+=1\n",
    "        if (la.norm(L.dot(XK)-Lambda*XK)<tol):\n",
    "            return k\n",
    "        N=XK"
   ]
  },
  {
   "cell_type": "markdown",
   "id": "cf43de6d",
   "metadata": {},
   "source": [
    "5) Assembler les fonctions élémentaires <tt>SomPart</tt> et <tt>Iter</tt> pour écrire une fonction python <tt>ExpAt(A,t,tol)</tt> qui retourne une matrice qui est une bonne approximation de $e^{At}$, ainsi que le nombre de termes de la somme."
   ]
  },
  {
   "cell_type": "code",
   "execution_count": 156,
   "id": "40642a5e",
   "metadata": {},
   "outputs": [],
   "source": [
    "def Som_part(A,t,nmax):\n",
    "    res = np.zeros((len(A),len(A)))\n",
    "    for i in range (len(A)):\n",
    "        res[i][i] = 1\n",
    "    for k in range(1,nmax):\n",
    "        res = (t**k) / (np.math.factorial(k))* (la.matrix_power(A,k)) + res\n",
    "        \n",
    "    return res\n",
    "\n",
    "def ExpAt(A,t,tol):\n",
    "    return Som_part(A,t,Iter(A,t,tol))\n",
    "    \n",
    "    \n",
    "    "
   ]
  },
  {
   "cell_type": "markdown",
   "id": "3a16427b",
   "metadata": {},
   "source": [
    "6) Tester votre fonction à nouveau sur la matrice $A$ précédente, pour $t = 0.1$ et $t = 3$, une tolérance pertinente, et comparer avec la fonction Python <tt>sla.expm()</tt>."
   ]
  },
  {
   "cell_type": "code",
   "execution_count": 162,
   "id": "d0711e0d",
   "metadata": {},
   "outputs": [
    {
     "name": "stdout",
     "output_type": "stream",
     "text": [
      "[[ 0.571 -0.128  0.173]\n",
      " [-0.045  0.805 -0.346]\n",
      " [ 0.214  0.064  0.914]]\n",
      "[[ 4.039e+06  2.020e+06 -4.415e+00]\n",
      " [-2.020e+06 -1.010e+06  8.829e+00]\n",
      " [-2.020e+06 -1.010e+06  3.207e+00]]\n"
     ]
    },
    {
     "data": {
      "text/plain": [
       "array([[ 0.571, -0.128,  0.173],\n",
       "       [-0.045,  0.805, -0.346],\n",
       "       [ 0.214,  0.064,  0.914]])"
      ]
     },
     "execution_count": 162,
     "metadata": {},
     "output_type": "execute_result"
    }
   ],
   "source": [
    "A = np.array([[-6,-2,2],[0,-2,-4],[3,1,-1]])\n",
    "t = 0.1\n",
    "tol = 0.0001\n",
    "print(ExpAt(A,t,tol))\n",
    "t1 = 3\n",
    "tol1 = 0.0001\n",
    "print(ExpAt(A,t1,tol1))\n",
    "\n",
    "sla.expm(t*A)"
   ]
  },
  {
   "cell_type": "markdown",
   "id": "dda35bdf",
   "metadata": {},
   "source": [
    "## Résolution du problème"
   ]
  },
  {
   "cell_type": "markdown",
   "id": "53bc8a22",
   "metadata": {},
   "source": [
    "7) Utiliser la fonction <tt>ExpAt</tt> et le résultat de l’équation pour résoudre le système différentiel initial dans le cas où $A = \\begin{pmatrix} -6 & -2 & 2 \\\\ 0 & -2 & -4 \\\\ 3 & 1 & -1 \\end{pmatrix}$, et la condition initiale est spécifiée par les valeurs $x_1(0) = 1$, $x_2(0) = 2$ et $x_3(0) = 2$. Faire un graphe des trois courbes $x_1 (t)$, $x_2(t)$ et $x_3(t)$ pour $t \\in [0, 3]$ en utilisant $100$ valeurs discrètes du temps. <br>\n",
    "Attention: la lisibilité du graphe va être prise en compte au moment de l’évaluation du TP. "
   ]
  },
  {
   "cell_type": "code",
   "execution_count": 164,
   "id": "1a847493",
   "metadata": {},
   "outputs": [
    {
     "ename": "ValueError",
     "evalue": "operands could not be broadcast together with shapes (3,3) (2,) ",
     "output_type": "error",
     "traceback": [
      "\u001b[0;31m---------------------------------------------------------------------------\u001b[0m",
      "\u001b[0;31mValueError\u001b[0m                                Traceback (most recent call last)",
      "Input \u001b[0;32mIn [164]\u001b[0m, in \u001b[0;36m<cell line: 5>\u001b[0;34m()\u001b[0m\n\u001b[1;32m      3\u001b[0m tol \u001b[38;5;241m=\u001b[39m \u001b[38;5;241m0.0001\u001b[39m\n\u001b[1;32m      4\u001b[0m t \u001b[38;5;241m=\u001b[39m np\u001b[38;5;241m.\u001b[39mlinspace(\u001b[38;5;241m0\u001b[39m,\u001b[38;5;241m3\u001b[39m,\u001b[38;5;241m2\u001b[39m)\n\u001b[0;32m----> 5\u001b[0m ExpAt1 \u001b[38;5;241m=\u001b[39m \u001b[43mExpAt\u001b[49m\u001b[43m(\u001b[49m\u001b[43mA\u001b[49m\u001b[43m,\u001b[49m\u001b[43mt\u001b[49m\u001b[43m,\u001b[49m\u001b[43mtol\u001b[49m\u001b[43m)\u001b[49m\n",
      "Input \u001b[0;32mIn [156]\u001b[0m, in \u001b[0;36mExpAt\u001b[0;34m(A, t, tol)\u001b[0m\n\u001b[1;32m     10\u001b[0m \u001b[38;5;28;01mdef\u001b[39;00m \u001b[38;5;21mExpAt\u001b[39m(A,t,tol):\n\u001b[0;32m---> 11\u001b[0m     \u001b[38;5;28;01mreturn\u001b[39;00m Som_part(A,t,\u001b[43mIter\u001b[49m\u001b[43m(\u001b[49m\u001b[43mA\u001b[49m\u001b[43m,\u001b[49m\u001b[43mt\u001b[49m\u001b[43m,\u001b[49m\u001b[43mtol\u001b[49m\u001b[43m)\u001b[49m)\n",
      "Input \u001b[0;32mIn [155]\u001b[0m, in \u001b[0;36mIter\u001b[0;34m(A, t, tol)\u001b[0m\n\u001b[1;32m      1\u001b[0m \u001b[38;5;28;01mdef\u001b[39;00m \u001b[38;5;21mIter\u001b[39m(A,t,tol):\n\u001b[0;32m----> 2\u001b[0m     L \u001b[38;5;241m=\u001b[39m \u001b[43mA\u001b[49m\u001b[38;5;241;43m*\u001b[39;49m\u001b[43mt\u001b[49m\n\u001b[1;32m      3\u001b[0m     N \u001b[38;5;241m=\u001b[39m np\u001b[38;5;241m.\u001b[39mzeros(\u001b[38;5;28mlen\u001b[39m(A))\n\u001b[1;32m      4\u001b[0m     \u001b[38;5;28;01mfor\u001b[39;00m i \u001b[38;5;129;01min\u001b[39;00m \u001b[38;5;28mrange\u001b[39m (\u001b[38;5;28mlen\u001b[39m(A)):\n",
      "\u001b[0;31mValueError\u001b[0m: operands could not be broadcast together with shapes (3,3) (2,) "
     ]
    }
   ],
   "source": [
    "A = np.array([[-6,-2,2],[0,-2,-4],[3,1,-1]])\n",
    "x0 = np.array([1,2,2])\n",
    "tol = 0.0001\n",
    "t = np.linspace(0,3,2)\n",
    "ExpAt1 = ExpAt(A,t,tol)\n",
    "plt.plot()"
   ]
  },
  {
   "cell_type": "markdown",
   "id": "57412300",
   "metadata": {},
   "source": [
    "## Valeurs propres - partie 1"
   ]
  },
  {
   "cell_type": "markdown",
   "id": "681ab8d2",
   "metadata": {},
   "source": [
    "<i>La ligne ci-dessous diminue la précision affichée pour plus de lisibilité, mais ne vous formalisez pas si cela ne semble pas systématique : c'est lié à des options d'affichages de python complexes à gérer. </i>"
   ]
  },
  {
   "cell_type": "markdown",
   "id": "7f623fe7",
   "metadata": {},
   "source": [
    "%precision 3 "
   ]
  },
  {
   "cell_type": "markdown",
   "id": "55b9829c",
   "metadata": {},
   "source": [
    "8) Toujours pour la même matrice $A$, calculer les valeurs propres de $A$, $(\\lambda_i)$, et de $e^A$, $(\\mu_i)$ (si votre fonction </tt>ExpAt</tt> ne marche pas, utiliser la fonction <tt>sla.expm()</tt> pour calculer $e^A$). Montrer que pour chaque valeur propre $\\mu_i$ il y a une valeur propre $\\lambda_i$ telle que $\\mu_i = e^{\\lambda_i}$. "
   ]
  },
  {
   "cell_type": "code",
   "execution_count": 169,
   "id": "a8ef8a81",
   "metadata": {},
   "outputs": [
    {
     "ename": "ValueError",
     "evalue": "operands could not be broadcast together with shapes (3,3) (2,) ",
     "output_type": "error",
     "traceback": [
      "\u001b[0;31m---------------------------------------------------------------------------\u001b[0m",
      "\u001b[0;31mValueError\u001b[0m                                Traceback (most recent call last)",
      "Input \u001b[0;32mIn [169]\u001b[0m, in \u001b[0;36m<cell line: 5>\u001b[0;34m()\u001b[0m\n\u001b[1;32m      3\u001b[0m x0 \u001b[38;5;241m=\u001b[39m np\u001b[38;5;241m.\u001b[39marray([\u001b[38;5;241m1\u001b[39m,\u001b[38;5;241m2\u001b[39m,\u001b[38;5;241m2\u001b[39m])\n\u001b[1;32m      4\u001b[0m tol \u001b[38;5;241m=\u001b[39m \u001b[38;5;241m0.0001\u001b[39m\n\u001b[0;32m----> 5\u001b[0m valPropreEa \u001b[38;5;241m=\u001b[39m la\u001b[38;5;241m.\u001b[39meigvals(\u001b[43mExpAt\u001b[49m\u001b[43m(\u001b[49m\u001b[43mA\u001b[49m\u001b[43m,\u001b[49m\u001b[43mt\u001b[49m\u001b[43m,\u001b[49m\u001b[43mtol\u001b[49m\u001b[43m)\u001b[49m)\n",
      "Input \u001b[0;32mIn [156]\u001b[0m, in \u001b[0;36mExpAt\u001b[0;34m(A, t, tol)\u001b[0m\n\u001b[1;32m     10\u001b[0m \u001b[38;5;28;01mdef\u001b[39;00m \u001b[38;5;21mExpAt\u001b[39m(A,t,tol):\n\u001b[0;32m---> 11\u001b[0m     \u001b[38;5;28;01mreturn\u001b[39;00m Som_part(A,t,\u001b[43mIter\u001b[49m\u001b[43m(\u001b[49m\u001b[43mA\u001b[49m\u001b[43m,\u001b[49m\u001b[43mt\u001b[49m\u001b[43m,\u001b[49m\u001b[43mtol\u001b[49m\u001b[43m)\u001b[49m)\n",
      "Input \u001b[0;32mIn [155]\u001b[0m, in \u001b[0;36mIter\u001b[0;34m(A, t, tol)\u001b[0m\n\u001b[1;32m      1\u001b[0m \u001b[38;5;28;01mdef\u001b[39;00m \u001b[38;5;21mIter\u001b[39m(A,t,tol):\n\u001b[0;32m----> 2\u001b[0m     L \u001b[38;5;241m=\u001b[39m \u001b[43mA\u001b[49m\u001b[38;5;241;43m*\u001b[39;49m\u001b[43mt\u001b[49m\n\u001b[1;32m      3\u001b[0m     N \u001b[38;5;241m=\u001b[39m np\u001b[38;5;241m.\u001b[39mzeros(\u001b[38;5;28mlen\u001b[39m(A))\n\u001b[1;32m      4\u001b[0m     \u001b[38;5;28;01mfor\u001b[39;00m i \u001b[38;5;129;01min\u001b[39;00m \u001b[38;5;28mrange\u001b[39m (\u001b[38;5;28mlen\u001b[39m(A)):\n",
      "\u001b[0;31mValueError\u001b[0m: operands could not be broadcast together with shapes (3,3) (2,) "
     ]
    }
   ],
   "source": [
    "valPropre = la.eigvals(A)\n",
    "A = np.array([[-6,-2,2],[0,-2,-4],[3,1,-1]])\n",
    "x0 = np.array([1,2,2])\n",
    "tol = 0.0001\n",
    "valPropreEa = la.eigvals(ExpAt(A,t,tol))"
   ]
  },
  {
   "cell_type": "markdown",
   "id": "671ec660",
   "metadata": {},
   "source": [
    "9) Montrer que les vecteurs propres de $A$ sont vecteurs propres de $e^A$"
   ]
  },
  {
   "cell_type": "code",
   "execution_count": null,
   "id": "59fc1112",
   "metadata": {},
   "outputs": [],
   "source": []
  },
  {
   "cell_type": "markdown",
   "id": "030d5edd",
   "metadata": {},
   "source": [
    "## Valeurs propres - partie 2"
   ]
  },
  {
   "cell_type": "markdown",
   "id": "5c5aec84",
   "metadata": {},
   "source": [
    "Les deux propriétés qu’on vient de vérifier ne sont pas un cas particulier, et nous suggèrent une nouvelle méthode pour calculer $e^A$. Cette méthode est valable si les valeurs propres de $A$ ne sont pas dégénérées, c’est-à-dire s’il n’y a pas deux valeurs propres identiques."
   ]
  },
  {
   "cell_type": "markdown",
   "id": "b8ba8580",
   "metadata": {},
   "source": [
    "10) Écrire une fonction : <tt>ExpAt2(A,t)</tt> dont les paramètres sont une matrice $A$ et un temps $t$. Cette fonction retourne la matrice $e^{At}$, qui est l’exponentielle de la matrice $A$ multipliée par $t$, calculée avec cette procédure :"
   ]
  },
  {
   "cell_type": "markdown",
   "id": "e97ad3f0",
   "metadata": {},
   "source": [
    "$\\qquad$ a) on utilise la fonction <tt>la.eig()</tt> pour calculer les matrices $D$ et $P$ qui apparaissent dans la diagonalisation de la matrice $A$ :\n",
    "$$A = P D P^{-1}, \\qquad \\qquad \\text{ où } D = \\begin{pmatrix} \\lambda_1 & 0 & 0 \\\\ 0 & \\lambda_2 & 0 \\\\ 0 & 0 & \\lambda_3 \\end{pmatrix} $$\n",
    "On rappelle que $D$ est alors une matrice diagonale avec les valeurs propres de $A$, et que $P$ est une matrice de vecteurs propres de $A$. "
   ]
  },
  {
   "cell_type": "markdown",
   "id": "8c352bc8",
   "metadata": {},
   "source": [
    "$\\qquad$ b) On calcule la matrice $D'$ suivante : \n",
    "$$D' = \\begin{pmatrix}e^{\\lambda_1}&0&0 \\\\ 0&e^{\\lambda_2}&0 \\\\ 0&0&e^{\\lambda_3}\\end{pmatrix}$$"
   ]
  },
  {
   "cell_type": "markdown",
   "id": "9447bc7c",
   "metadata": {},
   "source": [
    "$\\qquad$ c) On calcule la matrice $e^{At}$ en utilisant les résultats précédents : \n",
    "$$ e^{At} = P D' P^{-1}$$"
   ]
  },
  {
   "cell_type": "code",
   "execution_count": null,
   "id": "26dca57f",
   "metadata": {},
   "outputs": [],
   "source": []
  },
  {
   "cell_type": "markdown",
   "id": "81268469",
   "metadata": {},
   "source": [
    "11) Tester votre fonction sur $A = \\begin{pmatrix} -6 & -2 & 2 \\\\ 0 & -2 & -4 \\\\ 3 & 1 & -1 \\end{pmatrix}$ pour les temps $t = 0.1$ et $t = 3$ et en comparant les résultats obtenus avec la fonction Python <tt>sla.expm()</tt>."
   ]
  },
  {
   "cell_type": "code",
   "execution_count": 21,
   "id": "f15b9ff6",
   "metadata": {},
   "outputs": [
    {
     "data": {
      "text/plain": [
       "'%.8f'"
      ]
     },
     "execution_count": 21,
     "metadata": {},
     "output_type": "execute_result"
    }
   ],
   "source": [
    "%precision 8"
   ]
  },
  {
   "cell_type": "code",
   "execution_count": null,
   "id": "00c288a9",
   "metadata": {},
   "outputs": [],
   "source": []
  }
 ],
 "metadata": {
  "kernelspec": {
   "display_name": "Python 3 (ipykernel)",
   "language": "python",
   "name": "python3"
  },
  "language_info": {
   "codemirror_mode": {
    "name": "ipython",
    "version": 3
   },
   "file_extension": ".py",
   "mimetype": "text/x-python",
   "name": "python",
   "nbconvert_exporter": "python",
   "pygments_lexer": "ipython3",
   "version": "3.8.10"
  },
  "toc": {
   "base_numbering": 1,
   "nav_menu": {},
   "number_sections": true,
   "sideBar": true,
   "skip_h1_title": false,
   "title_cell": "Table of Contents",
   "title_sidebar": "Contents",
   "toc_cell": false,
   "toc_position": {},
   "toc_section_display": true,
   "toc_window_display": false
  },
  "varInspector": {
   "cols": {
    "lenName": 16,
    "lenType": 16,
    "lenVar": 40
   },
   "kernels_config": {
    "python": {
     "delete_cmd_postfix": "",
     "delete_cmd_prefix": "del ",
     "library": "var_list.py",
     "varRefreshCmd": "print(var_dic_list())"
    },
    "r": {
     "delete_cmd_postfix": ") ",
     "delete_cmd_prefix": "rm(",
     "library": "var_list.r",
     "varRefreshCmd": "cat(var_dic_list()) "
    }
   },
   "types_to_exclude": [
    "module",
    "function",
    "builtin_function_or_method",
    "instance",
    "_Feature"
   ],
   "window_display": false
  }
 },
 "nbformat": 4,
 "nbformat_minor": 5
}
