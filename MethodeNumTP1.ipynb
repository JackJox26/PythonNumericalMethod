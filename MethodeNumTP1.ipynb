{
 "cells": [
  {
   "cell_type": "markdown",
   "id": "4b812407",
   "metadata": {
    "deletable": false,
    "editable": false
   },
   "source": [
    "<center><font size=\"5\"> TP 1 : Approximation polynomiale par les moindres carrés </font> </center>"
   ]
  },
  {
   "cell_type": "markdown",
   "id": "8b42da25",
   "metadata": {
    "deletable": false,
    "editable": false
   },
   "source": [
    "\n",
    "On considère une suite d’observations $b = \\{b_i\\}_{i=1,\\dots ,m}$ dépendant d'une suite de données $t = \\{t_i\\}_{i=1,\\dots ,m}$, où les $t_i$ sont des nombres distincts. Notre objectif est de trouver un polynôme\n",
    "$$ p(t) = x_0 + x_1 t + x_2 t^2 + \\dots + x_{n-1} t^{n-1} $$\n",
    "qui approxime au mieux les points $\\{(t_i , b_i)\\}_{i=1,\\dots,m}$ au sens des moindres carrés."
   ]
  },
  {
   "cell_type": "markdown",
   "id": "d2e14b93",
   "metadata": {
    "deletable": false,
    "editable": false
   },
   "source": [
    "Exprimer le problème à résoudre sous la forme d’un problème de moindres carrés linéaire\n",
    "$$\\min_{x\\in \\mathbb{R}^n} \\Vert Ax - b\\Vert_2, A \\in \\mathbb{R}^{m\\times n}, b \\in \\mathbb{R}^m$$\n",
    "Vérifier que la solution est unique."
   ]
  },
  {
   "cell_type": "code",
   "execution_count": null,
   "id": "5bf06baa",
   "metadata": {},
   "outputs": [],
   "source": []
  },
  {
   "cell_type": "code",
   "execution_count": 4,
   "id": "c578d46b",
   "metadata": {
    "deletable": false,
    "editable": false
   },
   "outputs": [],
   "source": [
    "import numpy as np\n",
    "from numpy import linalg as la"
   ]
  },
  {
   "cell_type": "markdown",
   "id": "dcf521e3",
   "metadata": {
    "deletable": false,
    "editable": false
   },
   "source": [
    "Nous allons utiliser différentes fonctionnalités de la bibliothèque numpy. En voici quelques unes, toutes ne sont pas nécessaires, allez voir leur documentation et faites vos choix. \n",
    "\n",
    "<ul>\n",
    "    <li><tt>np.array</tt> : tableau manipulable, mais le * ne serait pas la multiplication matricielle. </li>\n",
    "    <ul>\n",
    "        <li><tt> A.T</tt> : donne la transposée</li>\n",
    "        <li><tt> A[i,j]</tt> </li>\n",
    "        <li><tt> A.shape</tt> </li>\n",
    "        <li><tt> A.dot(B)</tt> : multiplication entre array </li>\n",
    "    </ul>\n",
    "    <li><tt>np.matrix</tt> : matrice, le * est la multiplication</li>\n",
    "    <ul>\n",
    "        <li><tt> A.T</tt> : donne la transposée</li>\n",
    "        <li><tt> A[i,j]</tt> </li>\n",
    "        <li><tt> A.shape</tt> </li>\n",
    "    </ul>\n",
    "    <li><tt>np.asmatrix</tt> : gère la conversion array vers matrix</li>\n",
    "    <li><tt>np.zeros</tt> : attention crée un array </li>\n",
    "    <li><tt>la.inv</tt> : donne l'inverse</li>\n",
    "    <li><tt>la.pinv</tt> : donne un pseudo-inverse pour une matrice non carrée (typiquement triangulaire supérieure)</li>\n",
    "    <li><tt>la.cholesky</tt></li>\n",
    "    <li><tt>la.qr</tt> : bien lire la documentation et comprendre qu'il faut mettre l'option <tt> 'complete' </tt></li>\n",
    "    <li><tt>la.norm</tt></li>\n",
    "</ul>"
   ]
  },
  {
   "cell_type": "markdown",
   "id": "f1461a03",
   "metadata": {
    "deletable": false,
    "editable": false
   },
   "source": [
    "**Exemple numérique:**"
   ]
  },
  {
   "cell_type": "markdown",
   "id": "9b562d9c",
   "metadata": {
    "deletable": false,
    "editable": false
   },
   "source": [
    "Supposons que nous avons les données suivantes : "
   ]
  },
  {
   "cell_type": "markdown",
   "id": "0b00144c",
   "metadata": {
    "deletable": false,
    "editable": false
   },
   "source": [
    "$$\\begin{array}{c|ccccccccccc}\n",
    "t & 11 & 12 & 13 & 14 & 15 & 16 & 17 & 18 & 19 & 20 & 21 \\\\ \\hline\n",
    "b & 2 & 7 & 9 & 12 & 13 & 14 & 14 & 13 & 10 & 8 & 4 \n",
    "\\end{array}$$"
   ]
  },
  {
   "cell_type": "markdown",
   "id": "e88e4416",
   "metadata": {
    "deletable": false,
    "editable": false
   },
   "source": [
    "Commencer par donner la fonction <tt>Vandermonde(n,t)</tt> permettant de calculer la matrice $A$ du système de taille $n$ avec les données $t$. Cette matrice est ce qu'on appelle une matrice de Vandermonde. "
   ]
  },
  {
   "cell_type": "code",
   "execution_count": 22,
   "id": "5e2bc7f8",
   "metadata": {},
   "outputs": [],
   "source": [
    "def Vandermonde(n,t):\n",
    "    res = np.zeros([len(t),n])\n",
    "    for i in range(len(t)):\n",
    "        for j in range(n):\n",
    "            res[i][j] = t[i]**j\n",
    "    return res\n",
    "        "
   ]
  },
  {
   "cell_type": "code",
   "execution_count": 24,
   "id": "f7d79525",
   "metadata": {},
   "outputs": [
    {
     "name": "stdout",
     "output_type": "stream",
     "text": [
      "[[  1.  11. 121.]\n",
      " [  1.  12. 144.]\n",
      " [  1.  13. 169.]\n",
      " [  1.  14. 196.]\n",
      " [  1.  15. 225.]\n",
      " [  1.  16. 256.]\n",
      " [  1.  17. 289.]\n",
      " [  1.  18. 324.]\n",
      " [  1.  19. 361.]\n",
      " [  1.  20. 400.]\n",
      " [  1.  21. 441.]]\n"
     ]
    }
   ],
   "source": [
    "t = [11,12,13,14,15,16,17,18,19,20,21]\n",
    "print(Vandermonde(3,t))"
   ]
  },
  {
   "cell_type": "markdown",
   "id": "7b056b11",
   "metadata": {
    "deletable": false,
    "editable": false
   },
   "source": [
    "Pour différentes valeurs de n (de $n = 2$ à $n = 5$), calculer en utilisant la méthode\n",
    "des équations normales le polynôme $p(t)$ qui approxime au mieux les données\n",
    "fournies (solution $x_{ne}$ ).\n",
    "\n",
    "Pour cela écrivez une fonction <tt> equanorm(B, t, n) </tt>. Cette fonction renverra également l'erreur relative :\n",
    "$$\\frac{\\Vert Ax_{ne} - B\\Vert}{\\Vert B\\Vert}$$"
   ]
  },
  {
   "cell_type": "code",
   "execution_count": 53,
   "id": "35281435",
   "metadata": {},
   "outputs": [
    {
     "data": {
      "text/plain": [
       "array([ 2.22377622,  6.30769231,  9.52447552, 11.87412587, 13.35664336,\n",
       "       13.97202797, 13.72027972, 12.6013986 , 10.61538462,  7.76223776,\n",
       "        4.04195804])"
      ]
     },
     "execution_count": 53,
     "metadata": {},
     "output_type": "execute_result"
    }
   ],
   "source": [
    "def equanorm(B, t, n):\n",
    "    A = Vandermonde(n,t)\n",
    "    p1 = np.dot(A.T,A)\n",
    "    p2 = np.dot(A.T,B)\n",
    "    R = la.cholesky(p1)\n",
    "    y = np.dot(la.inv(R),p2)\n",
    "    x = np.dot(la.inv(R.T),y)\n",
    "    err = la.norm(np.dot(A,x) - B)/la.norm(B)\n",
    "    return x,err\n",
    "t = [11,12,13,14,15,16,17,18,19,20,21]\n",
    "b = [2,7,9,12,13,14,14,13,10,8,4]\n",
    "np.dot(Vandermonde(3,t),equanorm(b,t,3)[0])\n"
   ]
  },
  {
   "cell_type": "code",
   "execution_count": null,
   "id": "8504e4a4",
   "metadata": {},
   "outputs": [],
   "source": []
  },
  {
   "cell_type": "markdown",
   "id": "a3a129b2",
   "metadata": {
    "deletable": false,
    "editable": false
   },
   "source": [
    "Pour différentes valeurs de n (de $n = 2$ à $n = 5$), calculer en utilisant la factorisation QR le polynôme $p(t)$ qui approxime au mieux les données\n",
    "fournies (solution $x_{qr}$ ).\n",
    "\n",
    "Pour cela écrivez une fonction <tt> factoQR(B, t, n) </tt>. Cette fonction renverra également l'erreur relative :\n",
    "$$\\frac{\\Vert Ax_{qr} - B\\Vert}{\\Vert B\\Vert}$$"
   ]
  },
  {
   "cell_type": "code",
   "execution_count": 55,
   "id": "5fb7ac3f",
   "metadata": {},
   "outputs": [
    {
     "data": {
      "text/plain": [
       "array([ 2.22377622,  6.30769231,  9.52447552, 11.87412587, 13.35664336,\n",
       "       13.97202797, 13.72027972, 12.6013986 , 10.61538462,  7.76223776,\n",
       "        4.04195804])"
      ]
     },
     "execution_count": 55,
     "metadata": {},
     "output_type": "execute_result"
    }
   ],
   "source": [
    "def factoQR(B,t,n):\n",
    "    A = Vandermonde(n,t)\n",
    "    Q,R = la.qr(A)\n",
    "    Q1 = np.zeros([len(t),n])\n",
    "    for i in range(len(t)):\n",
    "        for j in range(n):\n",
    "            Q1[i][j] = Q[i][j]\n",
    "    Q1B = np.dot(Q1.T,B)\n",
    "    x = np.dot(np.dot(la.inv(R),Q1.T),B)\n",
    "    err = la.norm(np.dot(A,x) - B)/la.norm(B)\n",
    "    return x,err\n",
    "np.dot(Vandermonde(3,t),factoQR(b,t,3)[0])"
   ]
  },
  {
   "cell_type": "code",
   "execution_count": null,
   "id": "bb3d9437",
   "metadata": {},
   "outputs": [],
   "source": []
  },
  {
   "cell_type": "markdown",
   "id": "7c941dfc",
   "metadata": {
    "deletable": false,
    "editable": false
   },
   "source": [
    "Ecrire un programme <tt>compare(B,t,n)</tt> affichant de 2 à n les erreurs relatives pour la méthode qr, la méthode des équations normales, et la différence entre les deux normes :\n",
    "$$\\frac{\\Vert x_{qr} - x_{ne}\\Vert}{\\Vert x_{ne}\\Vert}$$\n",
    "\n",
    "Vous afficherez ensuite dans un <tt>plot</tt> les points des erreurs relatives des deux méthodes en fonction de $n$, et dans un autre plot la différence des normes en fonction de $n$.\n",
    "\n",
    "(utilisez <tt>import matplotlib.pyplot as plt</tt>, et allez voir les fonctionnalités)"
   ]
  },
  {
   "cell_type": "markdown",
   "id": "f3d65df3",
   "metadata": {
    "deletable": false,
    "editable": false
   },
   "source": [
    "Pour les fonctionnalités on pense notamment à :\n",
    "<ul>\n",
    "    <li><tt>plt.plot</tt> </li>\n",
    "    <li><tt>plt.show()</tt></li>\n",
    "    <li><tt>plt.figure</tt></li>\n",
    "    <li><tt>np.linspace</tt> : utile pour faire un plot de fonctions, il permet de définir plein d'abscisses réparties équitablement.\n",
    "</ul>"
   ]
  },
  {
   "cell_type": "code",
   "execution_count": 48,
   "id": "0f824382",
   "metadata": {},
   "outputs": [
    {
     "data": {
      "text/plain": [
       "8.093727061393773e-15"
      ]
     },
     "execution_count": 48,
     "metadata": {},
     "output_type": "execute_result"
    }
   ],
   "source": [
    "def compare(B,t,n):\n",
    "    return la.norm(factoQR(B,t,n) - equanorm(B,t,n)) /(la.norm(equanorm(B,t,n)))\n",
    "compare(b,t,3)"
   ]
  },
  {
   "cell_type": "code",
   "execution_count": null,
   "id": "2e35cd31",
   "metadata": {},
   "outputs": [],
   "source": []
  },
  {
   "cell_type": "markdown",
   "id": "d9f4bcf7",
   "metadata": {
    "deletable": false,
    "editable": false
   },
   "source": [
    "**Pour mieux visualiser**\n",
    "\n",
    "Toujours en utilisant les fonctionnalités dans matplotlib, faites une fonction <tt>plotapprox(B,t, n)</tt> permettant de visualiser les points initiaux du système (définis par la suite d'abscisses $t$ et d'ordonnées $B$) et la fonction définie par <tt>factoQR(B, t,n)</tt>."
   ]
  },
  {
   "cell_type": "markdown",
   "id": "f8c3af93",
   "metadata": {
    "deletable": false,
    "editable": false
   },
   "source": [
    "Testez aussi sur les données suivantes : \n",
    "$$\\begin{array}{c|ccccccccccc}\n",
    "t & 11 & 12 & 13 & 14 & 15 & 16 & 17 & 18 & 19 & 20 & 21 \\\\ \\hline\n",
    "b & 1 & 7 & 10 & 8 & 5 & 4 & 3 & 9 & 12 & 4 & 2\n",
    "\\end{array}$$"
   ]
  },
  {
   "cell_type": "code",
   "execution_count": 3,
   "id": "82d7df86",
   "metadata": {},
   "outputs": [
    {
     "ename": "NameError",
     "evalue": "name 'factoQR' is not defined",
     "output_type": "error",
     "traceback": [
      "\u001b[0;31m---------------------------------------------------------------------------\u001b[0m",
      "\u001b[0;31mNameError\u001b[0m                                 Traceback (most recent call last)",
      "Input \u001b[0;32mIn [3]\u001b[0m, in \u001b[0;36m<cell line: 13>\u001b[0;34m()\u001b[0m\n\u001b[1;32m     11\u001b[0m t \u001b[38;5;241m=\u001b[39m [\u001b[38;5;241m11\u001b[39m,\u001b[38;5;241m12\u001b[39m,\u001b[38;5;241m13\u001b[39m,\u001b[38;5;241m14\u001b[39m,\u001b[38;5;241m15\u001b[39m,\u001b[38;5;241m16\u001b[39m,\u001b[38;5;241m17\u001b[39m,\u001b[38;5;241m18\u001b[39m,\u001b[38;5;241m19\u001b[39m,\u001b[38;5;241m20\u001b[39m,\u001b[38;5;241m21\u001b[39m]\n\u001b[1;32m     12\u001b[0m b \u001b[38;5;241m=\u001b[39m [\u001b[38;5;241m2\u001b[39m,\u001b[38;5;241m7\u001b[39m,\u001b[38;5;241m9\u001b[39m,\u001b[38;5;241m12\u001b[39m,\u001b[38;5;241m13\u001b[39m,\u001b[38;5;241m14\u001b[39m,\u001b[38;5;241m14\u001b[39m,\u001b[38;5;241m13\u001b[39m,\u001b[38;5;241m10\u001b[39m,\u001b[38;5;241m8\u001b[39m,\u001b[38;5;241m4\u001b[39m]\n\u001b[0;32m---> 13\u001b[0m \u001b[43mplotapprox\u001b[49m\u001b[43m(\u001b[49m\u001b[43mb\u001b[49m\u001b[43m,\u001b[49m\u001b[43mt\u001b[49m\u001b[43m,\u001b[49m\u001b[38;5;241;43m3\u001b[39;49m\u001b[43m)\u001b[49m\n",
      "Input \u001b[0;32mIn [3]\u001b[0m, in \u001b[0;36mplotapprox\u001b[0;34m(B, t, n)\u001b[0m\n\u001b[1;32m      2\u001b[0m \u001b[38;5;28;01mdef\u001b[39;00m \u001b[38;5;21mplotapprox\u001b[39m(B,t, n):\n\u001b[1;32m      3\u001b[0m     plt\u001b[38;5;241m.\u001b[39mplot(t,B)\n\u001b[0;32m----> 4\u001b[0m     inter \u001b[38;5;241m=\u001b[39m \u001b[43mfactoQR\u001b[49m(B,t,n)\n\u001b[1;32m      5\u001b[0m     Y \u001b[38;5;241m=\u001b[39m np\u001b[38;5;241m.\u001b[39mzeros(\u001b[38;5;28mlen\u001b[39m(t))\n\u001b[1;32m      6\u001b[0m     \u001b[38;5;28;01mfor\u001b[39;00m i \u001b[38;5;129;01min\u001b[39;00m \u001b[38;5;28mrange\u001b[39m(\u001b[38;5;28mlen\u001b[39m(t)):\n",
      "\u001b[0;31mNameError\u001b[0m: name 'factoQR' is not defined"
     ]
    },
    {
     "data": {
      "image/png": "[encoded data removed]",
      "text/plain": [
       "<Figure size 432x288 with 1 Axes>"
      ]
     },
     "metadata": {
      "needs_background": "light"
     },
     "output_type": "display_data"
    }
   ],
   "source": [
    "import matplotlib.pyplot as plt\n",
    "def plotapprox(B,t, n):\n",
    "    plt.plot(t,B)\n",
    "    inter = factoQR(B,t,n)\n",
    "    Y = np.zeros(len(t))\n",
    "    for i in range(len(t)):\n",
    "        for j in range(n):\n",
    "            Y[i] += inter[j] * t[j]**j\n",
    "    plt.plot(t,Y)\n",
    "    plt.show()\n",
    "t = [11,12,13,14,15,16,17,18,19,20,21]\n",
    "b = [2,7,9,12,13,14,14,13,10,8,4]\n",
    "plotapprox(b,t,3)"
   ]
  },
  {
   "cell_type": "code",
   "execution_count": null,
   "id": "df86fd78",
   "metadata": {},
   "outputs": [],
   "source": []
  }
 ],
 "metadata": {
  "celltoolbar": "Format de la Cellule Texte Brut",
  "kernelspec": {
   "display_name": "Python 3 (ipykernel)",
   "language": "python",
   "name": "python3"
  },
  "language_info": {
   "codemirror_mode": {
    "name": "ipython",
    "version": 3
   },
   "file_extension": ".py",
   "mimetype": "text/x-python",
   "name": "python",
   "nbconvert_exporter": "python",
   "pygments_lexer": "ipython3",
   "version": "3.8.10"
  }
 },
 "nbformat": 4,
 "nbformat_minor": 5
}
