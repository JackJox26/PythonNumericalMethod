{
 "cells": [
  {
   "cell_type": "markdown",
   "id": "8924a811",
   "metadata": {},
   "source": [
    "<center><font size=\"5\"> TP 2 : Approximation des valeurs propres </font> </center>"
   ]
  },
  {
   "cell_type": "markdown",
   "id": "404ecd2f",
   "metadata": {},
   "source": [
    "\n",
    "Soient les matrices suivantes : \n",
    "$$\n",
    "A_1 = \\begin{pmatrix}\n",
    "-4 & 14 & 0 \\\\\n",
    "-3 & 13 & 0 \\\\\n",
    "-1 & 0 & 2\n",
    "\\end{pmatrix}, \\qquad\n",
    "A_2 = \\begin{pmatrix}\n",
    "2 & 0 & 0 \\\\\n",
    "0 & 0 & 0 \\\\\n",
    "0 & -2 & 1\n",
    "\\end{pmatrix}, \\qquad\n",
    "A_3 = \\begin{pmatrix}\n",
    "2 & 1 & 0 \\\\\n",
    "0 & 2 & 0 \\\\\n",
    "0 & 0 & 1\n",
    "\\end{pmatrix}\n",
    "$$"
   ]
  },
  {
   "cell_type": "markdown",
   "id": "74836405",
   "metadata": {},
   "source": [
    "On rappelle l'algorithme suivant, vu en cours : \n",
    "\n",
    "<font size=\"3\">**Algorithme : Méthode de la puissance**</font><br>\n",
    "**Nécessite** : $A$ une matrice, $x_0$ un vecteur <br>\n",
    "$\\text{} \\qquad k \\leftarrow 0 $ <br>\n",
    "$\\text{} \\qquad$ **Répéter** <br>\n",
    "$\\text{} \\qquad \\qquad x_{k+1} \\leftarrow \\frac{Ax_k}{\\Vert Ax_k \\Vert_2}$ <br>\n",
    "$\\text{} \\qquad \\qquad \\lambda_{k+1} \\leftarrow\\ x_{k+1}^TAx_{k+1}$ <br>\n",
    "$\\text{} \\qquad \\qquad k \\leftarrow k + 1$ <br>\n",
    "$\\text{} \\qquad $ **jusqu'à convergence** <br>\n",
    "**Retourne** $\\lambda_{k+1}$, $x_{k+1}$ et $k$"
   ]
  },
  {
   "cell_type": "markdown",
   "id": "39f02c1d",
   "metadata": {},
   "source": [
    "Écrire une fonction <tt>puissance(A, x0, tol, itermax)</tt> dont les paramètres sont la matrice <tt>A</tt>, un vecteur initial <tt>x0</tt>, une tolérance <tt>tol</tt> et un nombre d’itérations maximal <tt>itermax</tt>. Cette fonction retourne la valeur propre de plus grand module, le vecteur propre associé et le nombre d’itérations nécessaires."
   ]
  },
  {
   "cell_type": "code",
   "execution_count": 2,
   "id": "2182e498",
   "metadata": {},
   "outputs": [],
   "source": [
    "import numpy as np\n",
    "from numpy import linalg as la\n",
    "import matplotlib.image as img\n",
    "import matplotlib.pyplot as plt"
   ]
  },
  {
   "cell_type": "code",
   "execution_count": 89,
   "id": "cbcfc725",
   "metadata": {},
   "outputs": [],
   "source": [
    "def puissance(A, x0,tol, itermax):\n",
    "    k = 0\n",
    "    tempX0 = x0\n",
    "    x0 = A@x0/(la.norm(A@x0))\n",
    "    tempLamb = tempX0.T@A@tempX0\n",
    "    lamb = x0.T@A@x0\n",
    "    while (k<itermax):\n",
    "        tempX0 = x0\n",
    "        x0 = A@x0/(la.norm(A@x0))\n",
    "        tempLamb = tempX0.T@A@tempX0\n",
    "        lamb = x0.T@A@x0\n",
    "        k=k+1\n",
    "    return lamb,x0,k"
   ]
  },
  {
   "cell_type": "markdown",
   "id": "c037a7e4",
   "metadata": {},
   "source": [
    "Proposer une autre condition de sortie pour la boucle des itérations et l'implémenter dans une fonction puissance2 similaire."
   ]
  },
  {
   "cell_type": "code",
   "execution_count": 4,
   "id": "d1ec9ac6",
   "metadata": {},
   "outputs": [],
   "source": [
    "def puissance2(A, x0, tol, itermax):\n",
    "    k = 0\n",
    "    tempX0 = x0\n",
    "    x0 = A@x0/(la.norm(A@x0))\n",
    "    tempLamb = tempX0.T@A@tempX0\n",
    "    lamb = x0.T@A@x0\n",
    "    while (k<itermax and la.norm(tempX0-x0)>tol and la.norm(tempLamb-lamb)>tol):\n",
    "        tempX0 = x0\n",
    "        x0 = A@x0/(la.norm(A@x0))\n",
    "        tempLamb = tempX0.T@A@tempX0\n",
    "        lamb = x0.T@A@x0\n",
    "        k=k+1\n",
    "    return lamb,x0,k"
   ]
  },
  {
   "cell_type": "markdown",
   "id": "b48cc30f",
   "metadata": {},
   "source": [
    "Valider votre résultat en appliquant la fonction sur les matrices ci-dessus et en comparant les résultats à ceux obtenus en utilisant la fonction <tt>eig</tt> ou <tt>eigvals</tt> de <tt>Python</tt>."
   ]
  },
  {
   "cell_type": "code",
   "execution_count": 5,
   "id": "94e6e042",
   "metadata": {},
   "outputs": [
    {
     "name": "stdout",
     "output_type": "stream",
     "text": [
      "10.000010001639135\n"
     ]
    },
    {
     "data": {
      "text/plain": [
       "array([ 2., 10., -1.])"
      ]
     },
     "execution_count": 5,
     "metadata": {},
     "output_type": "execute_result"
    }
   ],
   "source": [
    "A1 = np.array([[-4 ,14,0],[-3,13,0],[-1,0,2]])\n",
    "x0 = np.array([1,2,3])\n",
    "tol0 = 0.0001\n",
    "itermax = 50\n",
    "lamb1,x1,k = puissance2(A1,x0,tol0,itermax)\n",
    "print(lamb1)\n",
    "la.eigvals(A1)"
   ]
  },
  {
   "cell_type": "code",
   "execution_count": 92,
   "id": "57291f77",
   "metadata": {},
   "outputs": [
    {
     "name": "stdout",
     "output_type": "stream",
     "text": [
      "1.9999847414437646 [ 0.99999237  0.         -0.00390622] 7\n"
     ]
    },
    {
     "data": {
      "text/plain": [
       "array([2., 1., 0.])"
      ]
     },
     "execution_count": 92,
     "metadata": {},
     "output_type": "execute_result"
    }
   ],
   "source": [
    "A2 = np.array([[2,0,0],[0,0,0],[0,-2,1]])\n",
    "x0 = np.array([1,2,3])\n",
    "tol0 = 0.0001\n",
    "itermax = 50\n",
    "lamb1,x1,k = puissance2(A2,x0,tol0,itermax)\n",
    "print(lamb1 ,x1, k)\n",
    "\n",
    "la.eigvals(A2)"
   ]
  },
  {
   "cell_type": "code",
   "execution_count": 94,
   "id": "53445a98",
   "metadata": {},
   "outputs": [
    {
     "name": "stdout",
     "output_type": "stream",
     "text": [
      "2.0384047267355982 [9.99261175e-01 3.84331221e-02 2.56016022e-17] 50\n"
     ]
    },
    {
     "data": {
      "text/plain": [
       "array([2., 2., 1.])"
      ]
     },
     "execution_count": 94,
     "metadata": {},
     "output_type": "execute_result"
    }
   ],
   "source": [
    "A3 = np.array([[2,1,0],[0,2,0],[0,0,1]])\n",
    "x00 = np.array([1,2,3])\n",
    "tol00 = 0.0001\n",
    "itermax = 50\n",
    "lamb1,x1,k = puissance2(A3,x0,tol0,itermax)\n",
    "print(lamb1,x1,k)\n",
    "la.eigvals(A3)"
   ]
  },
  {
   "cell_type": "markdown",
   "id": "eb3d6a52",
   "metadata": {},
   "source": [
    "Faire varier <tt>x0</tt> (et <tt>itermax</tt> lorsque c'est pertinent) et observer l'effet sur la convergence."
   ]
  },
  {
   "cell_type": "code",
   "execution_count": 95,
   "id": "b3edbb82",
   "metadata": {},
   "outputs": [
    {
     "name": "stdout",
     "output_type": "stream",
     "text": [
      "-4.0 [1. 0. 0.] 2\n"
     ]
    },
    {
     "data": {
      "text/plain": [
       "array([-4.,  0.,  0.])"
      ]
     },
     "execution_count": 95,
     "metadata": {},
     "output_type": "execute_result"
    }
   ],
   "source": [
    "A3 = np.array([[-4,14,0],[0,0,0],[0,-2,0]])\n",
    "x0 = np.array([2,10,3])\n",
    "tol0 = 0.01\n",
    "itermax = 50\n",
    "lamb1,x1,k = puissance2(A3,x00,tol00,itermax)\n",
    "print(lamb1,x1,k)\n",
    "\n",
    "#Si on augmente itermax donc la methode de la puissannce converge encore plus et se rapproche"
   ]
  },
  {
   "cell_type": "markdown",
   "id": "f002092d",
   "metadata": {},
   "source": []
  },
  {
   "cell_type": "code",
   "execution_count": null,
   "id": "852229a9",
   "metadata": {},
   "outputs": [],
   "source": []
  },
  {
   "cell_type": "markdown",
   "id": "09407d1a",
   "metadata": {},
   "source": [
    "Calculer la vitesse de convergence et la comparer avec la valeur théorique. La valeur théorique se calcule à \n",
    "partir du ratio des deux plus grandes valeurs propres du spectre à la puissance de l'itération. Tracer deux courbes représentant la convergence de votre algorithme (cva) et la convergence théorique (cvt)."
   ]
  },
  {
   "cell_type": "code",
   "execution_count": 134,
   "id": "59ab4bf6",
   "metadata": {},
   "outputs": [
    {
     "name": "stdout",
     "output_type": "stream",
     "text": [
      "1.0000000016542907\n"
     ]
    },
    {
     "data": {
      "text/plain": [
       "1.0000000165429073"
      ]
     },
     "execution_count": 134,
     "metadata": {},
     "output_type": "execute_result"
    }
   ],
   "source": [
    "A1 = np.array([[-4 ,14,0],[-3,13,0],[-1,0,2]])\n",
    "tol = 0.01\n",
    "itermax = 10\n",
    "def valeurTheorique (SpectresTheoMat,SpectresApproMat,tol,itermax):\n",
    "    MaxTheo = np.amax(la.eigvals(SpectresTheoMat))\n",
    "    lamb1,x1,k = puissance(SpectresApproMat,np.array([1,2,3]),tol,itermax)\n",
    "    return (lamb1/MaxTheo)**itermax\n",
    "valeurTheorique(A1,A1,tol,itermax)\n",
    "\n",
    "def vitesseConvergence(SpectresTheoMat,SpectresApproMat,tol,itermax):\n",
    "    MaxTheo = np.amax(la.eigvals(SpectresTheoMat))\n",
    "    lamb1,x1,k = puissance(SpectresApproMat,np.array([1,2,3]),tol,itermax)\n",
    "    return lamb1/MaxTheo\n",
    "print(vitesseConvergence(A1,A1,tol,itermax))\n",
    "valeurTheorique(A1,A1,tol,itermax)"
   ]
  },
  {
   "cell_type": "code",
   "execution_count": 243,
   "id": "d5bac07a",
   "metadata": {
    "scrolled": true
   },
   "outputs": [
    {
     "data": {
      "text/plain": [
       "[<matplotlib.lines.Line2D at 0x7f9aa1e7a670>]"
      ]
     },
     "execution_count": 243,
     "metadata": {},
     "output_type": "execute_result"
    },
    {
     "data": {
      "image/png": "[encoded data removed]",
      "text/plain": [
       "<Figure size 432x288 with 1 Axes>"
      ]
     },
     "metadata": {
      "needs_background": "light"
     },
     "output_type": "display_data"
    }
   ],
   "source": [
    "A1 = np.array([[-4 ,14,0],[-3,13,0],[-1,0,2]])\n",
    "itermax =100\n",
    "tol = 0.001\n",
    "x = np.zeros(itermax)\n",
    "y1 = np.zeros(itermax)\n",
    "y2 = np.zeros(itermax)\n",
    "for i in range (0,itermax):\n",
    "    y1[i] =  valeurTheorique (A1,A1,tol,i)\n",
    "    y2[i] =  vitesseConvergence(A1,A1,tol,i)\n",
    "    x[i] = i\n",
    "    \n",
    "    \n",
    "plt.plot(x,y1)\n",
    "plt.plot(x,y2)\n"
   ]
  },
  {
   "cell_type": "code",
   "execution_count": null,
   "id": "e270e019",
   "metadata": {},
   "outputs": [],
   "source": []
  },
  {
   "cell_type": "markdown",
   "id": "f248c639",
   "metadata": {},
   "source": [
    "On rappelle l'algorithme suivant, vu en cours. Il ne s’agit ni plus ni moins que du précédent\n",
    "algorithme appliqué à la matrice inverse (d’où son nom)\n",
    "\n",
    "<font size=\"3\">**Algorithme : Méthode de la puissance inverse**</font><br>\n",
    "**Nécessite** : $A$ une matrice, $x_0$ un vecteur <br>\n",
    "$\\text{} \\qquad k \\leftarrow 0 $ <br>\n",
    "$\\text{} \\qquad$ **Répéter** <br>\n",
    "$\\text{} \\qquad \\qquad x_{k+1} \\leftarrow \\frac{Ax_k}{\\Vert Ax_k \\Vert_2}$ <br>\n",
    "$\\text{} \\qquad \\qquad \\lambda_{k+1} \\leftarrow\\ x_{k+1}^TAx_{k+1}$ <br>\n",
    "$\\text{} \\qquad \\qquad k \\leftarrow k + 1$ <br>\n",
    "$\\text{} \\qquad $ **jusqu'à convergence** <br>\n",
    "**Retourne** $\\lambda_{k+1}$, $x_{k+1}$ et $k$"
   ]
  },
  {
   "cell_type": "markdown",
   "id": "15c9101c",
   "metadata": {},
   "source": [
    "Écrire une fonction <tt>puissanceInv(A, x0, tol, itermax)</tt> dont les paramètres sont la matrice <tt>A</tt>, un vecteur initial <tt>x0</tt>, une tolérance <tt>tol</tt> et un nombre d’itérations maximal <tt>itermax</tt>. Cette fonction retourne la valeur propre de plus grand module, le vecteur propre associé et le nombre d’itérations nécessaires."
   ]
  },
  {
   "cell_type": "code",
   "execution_count": 176,
   "id": "f7f21319",
   "metadata": {},
   "outputs": [],
   "source": [
    "def puissanceInv(A,x0,tol,itermax):\n",
    "    \n",
    "    k = 0\n",
    "    tempX0 = x0\n",
    "    x0 = la.inv(A)@x0 /(la.norm(la.inv(A)@x0))\n",
    "    tempLamb = tempX0.T@A@tempX0\n",
    "    lamb = x0.T@A@x0\n",
    "    while (k<itermax and la.norm(tempX0 - x0) > tol and la.norm(tempLamb - lamb)> tol):\n",
    "        tempX0 = x0\n",
    "        x0 = la.inv(A)@x0 /(la.norm(la.inv(A)@x0))\n",
    "        tempLamb = tempX0.T@A@tempX0\n",
    "        lamb = x0.T@A@x0\n",
    "    return lamb,x0,k\n",
    "    "
   ]
  },
  {
   "cell_type": "code",
   "execution_count": null,
   "id": "8a42e165",
   "metadata": {},
   "outputs": [],
   "source": []
  },
  {
   "cell_type": "markdown",
   "id": "2506bddd",
   "metadata": {},
   "source": [
    "Valider votre résultat en appliquant la fonction sur les matrices ci-dessus et en comparant les résultats à ceux obtenus en utilisant la fonction <tt>eig</tt> ou <tt>eigvals</tt> de <tt>Python</tt>."
   ]
  },
  {
   "cell_type": "code",
   "execution_count": 240,
   "id": "c759bccb",
   "metadata": {},
   "outputs": [
    {
     "data": {
      "text/plain": [
       "2.0509148961678214e-05"
      ]
     },
     "execution_count": 240,
     "metadata": {},
     "output_type": "execute_result"
    }
   ],
   "source": [
    "A = np.array([[-4 ,14,0],[-3,13,0],[-1,0,2]])\n",
    "x00 = np.array([2,10,3])\n",
    "tol = 0.0001\n",
    "itermax =50\n",
    "petiteValProAppro,x0,k = puissanceInv(A,x00,tol,itermax)\n",
    "\n",
    "A2= la.eigvals(A)\n",
    "min = la.norm(A2[0])\n",
    "for i in range (len(A)):\n",
    "    if (la.norm(A2[i])<min):\n",
    "        min = la.norm(A2[i])\n",
    "\n",
    "diff = la.norm(la.norm(petiteValProAppro) - min)\n",
    "diff\n"
   ]
  },
  {
   "cell_type": "code",
   "execution_count": null,
   "id": "b6968e01",
   "metadata": {},
   "outputs": [],
   "source": []
  },
  {
   "cell_type": "markdown",
   "id": "e97d55b2",
   "metadata": {},
   "source": [
    "Calculer la vitesse de convergence et la comparer avec la valeur théorique. Tracer deux courbes représentant la convergence et la convergence théorique."
   ]
  },
  {
   "cell_type": "code",
   "execution_count": 241,
   "id": "80f2afea",
   "metadata": {},
   "outputs": [],
   "source": [
    "A1 = np.array([[-4 ,14,0],[-3,13,0],[-1,0,2]])\n",
    "tol = 0.001\n",
    "itermax = 50\n",
    "def valeurTheorique1 (SpectresTheoMat,SpectresApproMat,tol,itermax):\n",
    "    A_aux = la.eigvals(SpectresTheoMat)\n",
    "    for i in range (len(A_aux)):\n",
    "        A_aux[i] = la.norm(A_aux[i])\n",
    "    MaxTheo = np.amin(A_aux)\n",
    "    lamb1,x1,k = puissanceInv(SpectresApproMat,np.array([2,10,3]),tol,itermax)\n",
    "    return (lamb1/MaxTheo)**itermax\n",
    "\n",
    "def vitesseConvergence1(SpectresTheoMat,SpectresApproMat,tol,itermax):\n",
    "    A_aux = la.eigvals(SpectresTheoMat)\n",
    "    for i in range (len(A_aux)):\n",
    "        A_aux[i] = la.norm(A_aux[i])\n",
    "    MaxTheo = np.amin(A_aux)\n",
    "    lamb1,x1,k = puissanceInv(SpectresApproMat,np.array([2,10,3]),tol,itermax)\n",
    "    return lamb1/MaxTheo\n"
   ]
  },
  {
   "cell_type": "code",
   "execution_count": 224,
   "id": "c6e85f6c",
   "metadata": {},
   "outputs": [
    {
     "data": {
      "text/plain": [
       "0.9847319600506449"
      ]
     },
     "execution_count": 224,
     "metadata": {},
     "output_type": "execute_result"
    }
   ],
   "source": [
    "valeurTheorique1(A1,A1,tol,itermax)"
   ]
  },
  {
   "cell_type": "code",
   "execution_count": 244,
   "id": "e92d5bbc",
   "metadata": {},
   "outputs": [
    {
     "data": {
      "text/plain": [
       "[<matplotlib.lines.Line2D at 0x7f9aa1b7c4c0>]"
      ]
     },
     "execution_count": 244,
     "metadata": {},
     "output_type": "execute_result"
    },
    {
     "data": {
      "image/png": "[encoded data removed]",
      "text/plain": [
       "<Figure size 432x288 with 1 Axes>"
      ]
     },
     "metadata": {
      "needs_background": "light"
     },
     "output_type": "display_data"
    }
   ],
   "source": [
    "A1 = np.array([[-5 ,14,0],[-3,13,0],[-1,0,2]])\n",
    "itermax =5\n",
    "tol = 0.001\n",
    "x = np.zeros(itermax)\n",
    "y1 = np.zeros(itermax)\n",
    "y2 = np.zeros(itermax)\n",
    "for i in range (0,itermax):\n",
    "    y1[i] =  valeurTheorique1 (A1,A1,tol,i)\n",
    "    y2[i] =  vitesseConvergence1(A1,A1,tol,i)\n",
    "    x[i] = i\n",
    "\n",
    "plt.plot(x,y1)\n",
    "plt.plot(x,y2)\n"
   ]
  },
  {
   "cell_type": "code",
   "execution_count": null,
   "id": "387a050f",
   "metadata": {},
   "outputs": [],
   "source": []
  },
  {
   "cell_type": "code",
   "execution_count": null,
   "id": "1a905e5d",
   "metadata": {},
   "outputs": [],
   "source": []
  }
 ],
 "metadata": {
  "kernelspec": {
   "display_name": "Python 3 (ipykernel)",
   "language": "python",
   "name": "python3"
  },
  "language_info": {
   "codemirror_mode": {
    "name": "ipython",
    "version": 3
   },
   "file_extension": ".py",
   "mimetype": "text/x-python",
   "name": "python",
   "nbconvert_exporter": "python",
   "pygments_lexer": "ipython3",
   "version": "3.8.10"
  }
 },
 "nbformat": 4,
 "nbformat_minor": 5
}
